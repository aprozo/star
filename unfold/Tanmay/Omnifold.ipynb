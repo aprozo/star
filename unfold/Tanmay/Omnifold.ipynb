{
  "cells": [
    {
      "cell_type": "code",
      "execution_count": 1,
      "metadata": {
        "colab": {
          "base_uri": "https://localhost:8080/"
        },
        "id": "Ilv6MKqrT9sd",
        "outputId": "97cd5c59-abbc-4d34-b826-aaa6bd29af21"
      },
      "outputs": [
        {
          "name": "stderr",
          "output_type": "stream",
          "text": [
            "2023-12-18 13:39:43.474377: I tensorflow/core/util/port.cc:110] oneDNN custom operations are on. You may see slightly different numerical results due to floating-point round-off errors from different computation orders. To turn them off, set the environment variable `TF_ENABLE_ONEDNN_OPTS=0`.\n",
            "2023-12-18 13:39:44.253396: I tensorflow/core/platform/cpu_feature_guard.cc:182] This TensorFlow binary is optimized to use available CPU instructions in performance-critical operations.\n",
            "To enable the following instructions: AVX2 AVX_VNNI FMA, in other operations, rebuild TensorFlow with the appropriate compiler flags.\n",
            "2023-12-18 13:39:46.750670: W tensorflow/compiler/tf2tensorrt/utils/py_utils.cc:38] TF-TRT Warning: Could not find TensorRT\n"
          ]
        }
      ],
      "source": [
        "import tensorflow as tf\n",
        "from tensorflow import keras\n",
        "from keras import layers, utils, backend, callbacks\n",
        "\n",
        "from sklearn.metrics import roc_auc_score, roc_curve\n",
        "from sklearn.model_selection import train_test_split\n",
        "from sklearn.preprocessing import StandardScaler\n",
        "\n",
        "import matplotlib.pyplot as plt\n",
        "import numpy as np\n",
        "import pandas as pd\n",
        "\n",
        "import uproot\n"
      ]
    },
    {
      "cell_type": "code",
      "execution_count": 2,
      "metadata": {
        "id": "IvPsjbMdcvYJ"
      },
      "outputs": [],
      "source": [
        "#@keras.saving.register_keras_serializable(package=\"CustomModel\", name=\"DNN2\")\n",
        "class DNN(keras.Model):\n",
        "    def __init__(self, sizes=(100, 100, 100), outputDims=2, inputDims=None, **kwargs):\n",
        "        super().__init__(**kwargs)\n",
        "        self._outputShape=outputDims\n",
        "        self._denseSizes=sizes\n",
        "        self._inputShape=inputShape\n",
        "\n",
        "        self._inputs = keras.Input(shape=inputDims)\n",
        "        self._layers = []\n",
        "        for i, size in enumerate(sizes):\n",
        "            _layer = layers.Dense(size, kernel_initializer=\"he_uniform\", kernel_regularizer=keras.regularizers.L1L2(l2=1e-4))\n",
        "            _activation = layers.Activation(\"relu\")\n",
        "            self._layers.extend([_layer, _activation])\n",
        "\n",
        "        _layer = layers.Dense(outputDims)\n",
        "        _activation = layers.Activation(\"softmax\")\n",
        "        self._layers.extend([_layer, _activation])\n",
        "\n",
        "        self._outputs = self.call(self._inputs)\n",
        "        self._model = keras.Model(self._inputs, self._outputs)\n",
        "\n",
        "    def call(self, inputs):\n",
        "        self._tensors = [inputs]\n",
        "        for _layer in self._layers:\n",
        "            tensor = _layer(self._tensors[-1])\n",
        "            self._tensors.append(tensor)\n",
        "        return self._tensors[-1]\n",
        "\n",
        "    def get_config(self):\n",
        "        config = super().get_config()\n",
        "        config.update({\n",
        "            \"sizes\": self._denseSizes,\n",
        "            \"outputDims\": self._outputShape,\n",
        "            \"inputDims\": self._inputShape,\n",
        "        })\n",
        "        return config\n",
        "\n",
        "    def model(self):\n",
        "        return self._model"
      ]
    },
    {
      "cell_type": "code",
      "execution_count": 5,
      "metadata": {
        "colab": {
          "base_uri": "https://localhost:8080/"
        },
        "id": "WxEyQZoLdHiD",
        "outputId": "d8d9de9d-1d90-4445-e705-e53224637ce2"
      },
      "outputs": [
        {
          "name": "stdout",
          "output_type": "stream",
          "text": [
            "           pt         z\n",
            "35  10.704795  0.220885\n",
            "43  14.889277  0.223511\n",
            "46  -1.206370 -3.925730\n",
            "56   3.941502  0.711441\n",
            "57   4.378250  1.018255\n",
            "          pt         z\n",
            "35  2.983089  0.852240\n",
            "43  3.299773  1.000000\n",
            "46  5.479533  0.856642\n",
            "56  3.311914  0.866401\n",
            "57  4.709603  0.929342\n",
            "train-test split Gen:  (63962, 2) (15991, 2)\n",
            "              pt         z\n",
            "217111  3.128336  1.000000\n",
            "454956  4.692349  0.588334\n",
            "269545  4.655381  0.647591\n",
            "531776  3.454292  1.000000\n",
            "440369  2.142554  1.000000\n",
            "              pt         z\n",
            "281996  6.049345  0.441467\n",
            "287297  1.888690  0.734051\n",
            "946418  5.589930  0.397033\n",
            "650303  4.355788  0.687382\n",
            "858216  3.823852  0.565590\n",
            "train-test split Reco:  (63962, 2) (15991, 2)\n",
            "               pt          z\n",
            "217111   7.952371   0.397193\n",
            "454956  13.380087   0.209352\n",
            "269545  -1.384463  -2.205596\n",
            "531776  -0.313540 -10.851152\n",
            "440369   0.249991   8.802291\n",
            "               pt          z\n",
            "281996   5.839378   0.438699\n",
            "287297  12.911404   0.106682\n",
            "946418   5.965845   0.370600\n",
            "650303   0.237004  12.426401\n",
            "858216  -4.215333  -0.499584\n"
          ]
        }
      ],
      "source": [
        "# drive.mount(\"/content/gdrive\", force_remount=True)\n",
        "\n",
        "# matches = uproot.open(\"/content/gdrive/My Drive/dataFiles/embeddingNtuples_20231023_4256.root:matches\")\n",
        "#matches.show()\n",
        "\n",
        "trees = [uproot.open(\"/home/prozorov/dev/star/output_jets.root:Jets\")]\n",
        "\n",
        "sim_mc_reco= trees[0].arrays([\"McJetPt\", \"McJetD0Z\", \n",
        "                            #   \"McJetLambda_1_1\", \"McJetLambda_1_1half\",\"McJetLambda_1_2\",\"McJetLambda_1_3\",\n",
        "                              \"RecoJetPt\",\"RecoJetD0Z\",\n",
        "                            #   \"RecoJetLambda_1_1\", \"RecoJetLambda_1_1half\",\"RecoJetLambda_1_2\",\"RecoJetLambda_1_3\"\n",
        "                            ],  \n",
        "                              \"(Centrality < 2) & (RecoJetD0Z > -30) & (RecoJetD0Z < 30) & (RecoJetNConst!=0)\", library=\"pd\", entry_stop=1000000)\n",
        "\n",
        "\n",
        "columns = ['pt', 'z']\n",
        "\n",
        "\n",
        "mc = sim_mc_reco.iloc[:,0:2]\n",
        "reco = sim_mc_reco.iloc[:,2:4]\n",
        "\n",
        "\n",
        "mc.rename(columns={\"McJetPt\": \"pt\", \"McJetD0Z\": \"z\", }, inplace=True)\n",
        "reco.rename(columns={\"RecoJetPt\": \"pt\", \"RecoJetD0Z\": \"z\"}, inplace=True)\n",
        "\n",
        "\n",
        "print(reco.head())\n",
        "print(mc.head())\n",
        "\n",
        "trainGen, testGen, trainReco, testReco = train_test_split(mc, reco, test_size=0.2)\n",
        "\n",
        "print(\"train-test split Gen: \", trainGen.shape, testGen.shape)\n",
        "print(trainGen.head())\n",
        "print(testGen.head())\n",
        "\n",
        "print(\"train-test split Reco: \", trainReco.shape, testReco.shape)\n",
        "print(trainReco.head())\n",
        "print(testReco.head())\n",
        "\n"
      ]
    },
    {
      "cell_type": "code",
      "execution_count": 6,
      "metadata": {
        "colab": {
          "base_uri": "https://localhost:8080/"
        },
        "id": "QFC2FnQbeafJ",
        "outputId": "147acade-bec8-4665-9004-dff2225f642e"
      },
      "outputs": [
        {
          "ename": "NameError",
          "evalue": "name 'Y_det' is not defined",
          "output_type": "error",
          "traceback": [
            "\u001b[0;31m---------------------------------------------------------------------------\u001b[0m",
            "\u001b[0;31mNameError\u001b[0m                                 Traceback (most recent call last)",
            "Cell \u001b[0;32mIn[6], line 1\u001b[0m\n\u001b[0;32m----> 1\u001b[0m nData, nEmbedding \u001b[38;5;241m=\u001b[39m np\u001b[38;5;241m.\u001b[39mcount_nonzero(\u001b[43mY_det\u001b[49m[:,\u001b[38;5;241m1\u001b[39m]), np\u001b[38;5;241m.\u001b[39mcount_nonzero(Y_det[:,\u001b[38;5;241m0\u001b[39m])\n\u001b[1;32m      2\u001b[0m \u001b[38;5;66;03m#wtest[key] = np.ones(ntest[key])\u001b[39;00m\n\u001b[1;32m      3\u001b[0m wData \u001b[38;5;241m=\u001b[39m testWts\u001b[38;5;241m.\u001b[39mto_numpy()\n",
            "\u001b[0;31mNameError\u001b[0m: name 'Y_det' is not defined"
          ]
        }
      ],
      "source": [
        "nData, nEmbedding = np.count_nonzero(Y_det[:,1]), np.count_nonzero(Y_det[:,0])\n",
        "#wtest[key] = np.ones(ntest[key])\n",
        "wData = testWts.to_numpy()\n",
        "#wtrain[key] = ntest[key]/ntrain[key]*np.ones(ntrain[key])\n",
        "wEmbedding = (testWts.sum()/trainWts.sum()*trainWts).to_numpy()\n",
        "\n",
        "print(np.sum(wEmbedding), np.sum(wData))\n",
        "print(np.sum(testWts), np.sum(trainWts))\n",
        "\n",
        "#now = datetime.now()\n",
        "#nownow = now.strftime(\"%d-%m-%Y_%H-%M-%S\")\n",
        "folderPath = \"/content/gdrive/MyDrive/savedModels/savedModel_\"\n",
        "\n",
        "lossFunc=\"binary_crossentropy\"\n",
        "optimizer=\"adam\"\n",
        "metricList=[\"accuracy\"]\n",
        "\n",
        "patience=10\n",
        "\n",
        "validationSize = 0.2\n",
        "nEpochs = 50\n",
        "batchSize = 1000\n",
        "\n",
        "inputShape = X_det.shape[1:]\n",
        "\n",
        "w_sim = [wEmbedding]\n",
        "nIter = 4\n",
        "for i in range(nIter):\n",
        "  detModel = DNN(sizes=(100, 100, 100), outputDims=2, inputDims=inputShape)\n",
        "  detModel.compile(loss=lossFunc, optimizer=optimizer, metrics=metricList, weighted_metrics=[])\n",
        "  detModel.model().summary()\n",
        "  detCallBacks = [callbacks.EarlyStopping(patience=patience, verbose=1, restore_best_weights=True)]\n",
        "  detModelFilePath = folderPath + f\"step1_iteration{i}\"+\"_epoch{epoch}\"\n",
        "  detCallBacks.append(callbacks.ModelCheckpoint(detModelFilePath, save_best_only=True, verbose=1))\n",
        "\n",
        "  genModel = DNN(sizes=(100, 100, 100), outputDims=2, inputDims=inputShape)\n",
        "  genModel.compile(loss=lossFunc, optimizer=optimizer, metrics=metricList, weighted_metrics=[])\n",
        "  genModel.model().summary()\n",
        "  genCallBacks = [callbacks.EarlyStopping(patience=patience, verbose=1, restore_best_weights=True)]\n",
        "  genModelFilePath = folderPath + f\"step2_iteration{i}\"+\"_epoch{epoch}\"\n",
        "  genCallBacks.append(callbacks.ModelCheckpoint(genModelFilePath, save_best_only=True, verbose=1))\n",
        "\n",
        "  if(i > 0):\n",
        "    detModel.load_weights(folderPath + f\"step1_iteration{i-1}\")\n",
        "    genModel.load_weights(folderPath + f\"step2_iteration{i-1}\")\n",
        "\n",
        "  w_det = np.concatenate([wData, w_sim[-1]])\n",
        "\n",
        "  X_det_train, X_det_val, Y_det_train, Y_det_val, w_det_train, w_det_val = train_test_split(X_det, Y_det, w_det, test_size=validationSize)\n",
        "  detModel.fit(X_det_train, Y_det_train, sample_weight=w_det_train, epochs=nEpochs, batch_size=batchSize, validation_data=(X_det_val, Y_det_val, w_det_val), verbose=1, callbacks=detCallBacks)\n",
        "  detModel.save_weights(folderPath + f\"step1_iteration{i}\")\n",
        "  prediction = detModel.predict(X_det, batch_size=batchSize*10)\n",
        "  scaleFactors = prediction[Y_det[:, 0] == 1]\n",
        "\n",
        "  _pull = (scaleFactors[:, 1]/(scaleFactors[:, 0] + backend.epsilon()))*w_sim[-1]\n",
        "  w_sim.append(_pull)\n",
        "\n",
        "  w_gen = np.concatenate([w_sim[-1], w_sim[0]])\n",
        "\n",
        "  X_gen_train, X_gen_val, Y_gen_train, Y_gen_val, w_gen_train, w_gen_val = train_test_split(X_gen, Y_gen, w_gen, test_size=validationSize)\n",
        "  genModel.fit(X_gen_train, Y_gen_train, sample_weight=w_gen_train, epochs=nEpochs, batch_size=batchSize, validation_data=(X_gen_val, Y_gen_val, w_gen_val), verbose=1, callbacks=genCallBacks)\n",
        "  genModel.save_weights(folderPath + f\"step2_iteration{i}\")\n",
        "  prediction = genModel.predict(X_gen, batch_size=batchSize*10)\n",
        "  scaleFactors = prediction[Y_gen[:, 0] == 1]\n",
        "\n",
        "  _push = (scaleFactors[:, 1]/(scaleFactors[:, 0] + backend.epsilon()))*w_sim[-1]\n",
        "  w_sim.append(_push)\n"
      ]
    },
    {
      "cell_type": "code",
      "execution_count": 8,
      "metadata": {
        "id": "IcADg-7_gBKK"
      },
      "outputs": [
        {
          "ename": "NameError",
          "evalue": "name 'w_sim' is not defined",
          "output_type": "error",
          "traceback": [
            "\u001b[0;31m---------------------------------------------------------------------------\u001b[0m",
            "\u001b[0;31mNameError\u001b[0m                                 Traceback (most recent call last)",
            "Cell \u001b[0;32mIn[8], line 7\u001b[0m\n\u001b[1;32m      4\u001b[0m Max \u001b[38;5;241m=\u001b[39m \u001b[38;5;241m13.\u001b[39m\n\u001b[1;32m      5\u001b[0m nBins \u001b[38;5;241m=\u001b[39m \u001b[38;5;241m12\u001b[39m\n\u001b[0;32m----> 7\u001b[0m cpt1, binpt1 \u001b[38;5;241m=\u001b[39m np\u001b[38;5;241m.\u001b[39mhistogram(trainGen[feature], bins\u001b[38;5;241m=\u001b[39mnBins, \u001b[38;5;28mrange\u001b[39m\u001b[38;5;241m=\u001b[39m(Min, Max), weights\u001b[38;5;241m=\u001b[39m\u001b[43mw_sim\u001b[49m[\u001b[38;5;241m-\u001b[39m\u001b[38;5;241m1\u001b[39m], density\u001b[38;5;241m=\u001b[39m\u001b[38;5;28;01mTrue\u001b[39;00m)\n\u001b[1;32m      8\u001b[0m cpt2, binpt2 \u001b[38;5;241m=\u001b[39m np\u001b[38;5;241m.\u001b[39mhistogram(testGen[feature], bins\u001b[38;5;241m=\u001b[39mnBins, \u001b[38;5;28mrange\u001b[39m\u001b[38;5;241m=\u001b[39m(Min, Max), weights\u001b[38;5;241m=\u001b[39mtestWts, density\u001b[38;5;241m=\u001b[39m\u001b[38;5;28;01mTrue\u001b[39;00m)\n\u001b[1;32m      9\u001b[0m cpt3, binpt3 \u001b[38;5;241m=\u001b[39m np\u001b[38;5;241m.\u001b[39mhistogram(testReco[feature], bins\u001b[38;5;241m=\u001b[39mnBins, \u001b[38;5;28mrange\u001b[39m\u001b[38;5;241m=\u001b[39m(Min, Max), weights\u001b[38;5;241m=\u001b[39mtestWts, density\u001b[38;5;241m=\u001b[39m\u001b[38;5;28;01mTrue\u001b[39;00m)\n",
            "\u001b[0;31mNameError\u001b[0m: name 'w_sim' is not defined"
          ]
        }
      ],
      "source": [
        "#columns = [\"_wt\", \"_pt\", \"_eta\", \"_phi\", \"_nCharged\", \"_girth\", \"_ptd\", \"_lesub\"]\n",
        "feature = \"pt\"\n",
        "Min = 0.\n",
        "Max = 13.\n",
        "nBins = 12\n",
        "\n",
        "cpt1, binpt1 = np.histogram(trainGen[feature], bins=nBins, range=(Min, Max), weights=w_sim[-1], density=True)\n",
        "cpt2, binpt2 = np.histogram(testGen[feature], bins=nBins, range=(Min, Max), weights=testWts, density=True)\n",
        "cpt3, binpt3 = np.histogram(testReco[feature], bins=nBins, range=(Min, Max), weights=testWts, density=True)\n",
        "\n",
        "#crat = cpt1/cpt2\n",
        "#crat1 = cpt3/cpt2\n",
        "\n",
        "#plt.hist(binpt1[:-1], binpt1, weights=crat1)\n",
        "#plt.hist(binpt1[:-1], binpt1, weights=crat)\n",
        "\n",
        "#plt.yscale(\"log\")"
      ]
    },
    {
      "cell_type": "code",
      "execution_count": null,
      "metadata": {
        "colab": {
          "base_uri": "https://localhost:8080/",
          "height": 552
        },
        "id": "a5UJwI_qr_a5",
        "outputId": "d5a2c350-8c21-4e85-bb74-caaf8232c21a"
      },
      "outputs": [
        {
          "data": {
            "text/plain": [
              "(array([0.00000000e+00, 6.17528063e-01, 2.44123219e-01, 5.22937632e-02,\n",
              "        7.85359577e-03, 1.19437022e-03, 7.55672558e-05, 6.38509225e-06,\n",
              "        1.89323365e-06, 6.09715189e-08, 5.89956328e-09, 1.83898896e-10]),\n",
              " array([ 0.        ,  1.08333333,  2.16666667,  3.25      ,  4.33333333,\n",
              "         5.41666667,  6.5       ,  7.58333333,  8.66666667,  9.75      ,\n",
              "        10.83333333, 11.91666667, 13.        ]),\n",
              " <BarContainer object of 12 artists>)"
            ]
          },
          "execution_count": 76,
          "metadata": {},
          "output_type": "execute_result"
        },
        {
          "data": {
            "image/png": "[encoded data removed]",
            "text/plain": [
              "<Figure size 640x480 with 1 Axes>"
            ]
          },
          "metadata": {},
          "output_type": "display_data"
        }
      ],
      "source": [
        "plt.hist(binpt1[:-1], binpt1, weights=cpt3)"
      ]
    },
    {
      "cell_type": "code",
      "execution_count": null,
      "metadata": {
        "id": "dOGPf51rInRs"
      },
      "outputs": [],
      "source": []
    }
  ],
  "metadata": {
    "colab": {
      "provenance": []
    },
    "kernelspec": {
      "display_name": "Python 3",
      "name": "python3"
    },
    "language_info": {
      "codemirror_mode": {
        "name": "ipython",
        "version": 3
      },
      "file_extension": ".py",
      "mimetype": "text/x-python",
      "name": "python",
      "nbconvert_exporter": "python",
      "pygments_lexer": "ipython3",
      "version": "3.11.6"
    }
  },
  "nbformat": 4,
  "nbformat_minor": 0
}
