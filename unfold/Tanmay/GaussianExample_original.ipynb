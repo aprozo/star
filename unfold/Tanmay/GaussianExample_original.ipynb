{
 "cells": [
  {
   "cell_type": "code",
   "execution_count": 1,
   "metadata": {
    "ExecuteTime": {
     "end_time": "2020-11-17T03:48:59.924067Z",
     "start_time": "2020-11-17T03:48:57.190005Z"
    }
   },
   "outputs": [
    {
     "name": "stderr",
     "output_type": "stream",
     "text": [
      "2024-02-20 13:25:16.498974: I tensorflow/core/util/port.cc:110] oneDNN custom operations are on. You may see slightly different numerical results due to floating-point round-off errors from different computation orders. To turn them off, set the environment variable `TF_ENABLE_ONEDNN_OPTS=0`.\n",
      "2024-02-20 13:25:16.554688: I tensorflow/core/platform/cpu_feature_guard.cc:182] This TensorFlow binary is optimized to use available CPU instructions in performance-critical operations.\n",
      "To enable the following instructions: AVX2 AVX_VNNI FMA, in other operations, rebuild TensorFlow with the appropriate compiler flags.\n",
      "2024-02-20 13:25:17.201827: W tensorflow/compiler/tf2tensorrt/utils/py_utils.cc:38] TF-TRT Warning: Could not find TensorRT\n"
     ]
    }
   ],
   "source": [
    "from __future__ import absolute_import, division, print_function\n",
    "\n",
    "import numpy as np\n",
    "from matplotlib import pyplot as plt\n",
    "\n",
    "from sklearn.model_selection import train_test_split\n",
    "\n",
    "import tensorflow as tf\n",
    "\n",
    "from tensorflow.keras.layers import Dense, Input\n",
    "from tensorflow.keras.models import Model\n",
    "from tensorflow.keras.callbacks import EarlyStopping\n",
    "\n",
    "import matplotlib as mpl\n",
    "mpl.rcParams.update(mpl.rcParamsDefault)\n",
    "mpl.rcParams[\"text.usetex\"]=False "
   ]
  },
  {
   "cell_type": "code",
   "execution_count": 2,
   "metadata": {},
   "outputs": [],
   "source": [
    "%matplotlib inline\n",
    "#from IPython.core.display import display, HTML\n",
    "#display(HTML(\"<style>.container { width:100% !important; }</style>\")"
   ]
  },
  {
   "cell_type": "code",
   "execution_count": 3,
   "metadata": {},
   "outputs": [
    {
     "name": "stdout",
     "output_type": "stream",
     "text": [
      "[PhysicalDevice(name='/physical_device:GPU:0', device_type='GPU')]\n"
     ]
    },
    {
     "name": "stderr",
     "output_type": "stream",
     "text": [
      "2024-02-20 13:25:17.897406: I tensorflow/compiler/xla/stream_executor/cuda/cuda_gpu_executor.cc:981] could not open file to read NUMA node: /sys/bus/pci/devices/0000:01:00.0/numa_node\n",
      "Your kernel may have been built without NUMA support.\n",
      "2024-02-20 13:25:17.908202: I tensorflow/compiler/xla/stream_executor/cuda/cuda_gpu_executor.cc:981] could not open file to read NUMA node: /sys/bus/pci/devices/0000:01:00.0/numa_node\n",
      "Your kernel may have been built without NUMA support.\n",
      "2024-02-20 13:25:17.908257: I tensorflow/compiler/xla/stream_executor/cuda/cuda_gpu_executor.cc:981] could not open file to read NUMA node: /sys/bus/pci/devices/0000:01:00.0/numa_node\n",
      "Your kernel may have been built without NUMA support.\n"
     ]
    }
   ],
   "source": [
    "gpus = tf.config.experimental.list_physical_devices('GPU')\n",
    "print(gpus)\n",
    "tf.config.experimental.set_virtual_device_configuration(gpus[0], [tf.config.experimental.VirtualDeviceConfiguration(memory_limit=1024)]) #in MB"
   ]
  },
  {
   "cell_type": "code",
   "execution_count": 4,
   "metadata": {},
   "outputs": [],
   "source": [
    "# Define default plot styles  \n",
    "\n",
    "from matplotlib import rc\n",
    "import matplotlib.font_manager\n",
    "\n",
    "rc('font', family='serif')\n",
    "rc('text', usetex=False)\n",
    "rc('font', size=22)\n",
    "rc('xtick', labelsize=15)\n",
    "rc('ytick', labelsize=15)\n",
    "rc('legend', fontsize=15)\n",
    "\n",
    "plot_style_0 = {\n",
    "    'histtype': 'step',\n",
    "    'color': 'black',\n",
    "    'linewidth': 2,\n",
    "    'linestyle': '--',\n",
    "    'density': False\n",
    "}\n",
    "\n",
    "plot_style_1 = {\n",
    "    'histtype': 'step',\n",
    "    'color': 'black',\n",
    "    'linewidth': 2,\n",
    "    'density': False\n",
    "}\n",
    "\n",
    "plot_style_2 = {'alpha': 0.5, 'density': False}"
   ]
  },
  {
   "cell_type": "code",
   "execution_count": 5,
   "metadata": {
    "ExecuteTime": {
     "end_time": "2020-11-17T03:48:59.971307Z",
     "start_time": "2020-11-17T03:48:59.954584Z"
    }
   },
   "outputs": [
    {
     "name": "stdout",
     "output_type": "stream",
     "text": [
      "2.13.1\n"
     ]
    }
   ],
   "source": [
    "# Check Versions\n",
    "import tensorflow as tf\n",
    "print(tf.__version__)"
   ]
  },
  {
   "cell_type": "markdown",
   "metadata": {},
   "source": [
    "# OmniFold Gaussian Toy Example"
   ]
  },
  {
   "cell_type": "markdown",
   "metadata": {},
   "source": [
    "## Setup the Datasets"
   ]
  },
  {
   "cell_type": "code",
   "execution_count": 6,
   "metadata": {
    "ExecuteTime": {
     "end_time": "2020-11-17T03:48:59.978107Z",
     "start_time": "2020-11-17T03:48:59.974831Z"
    }
   },
   "outputs": [],
   "source": [
    "mu0 = 0\n",
    "sigma0 = 1\n",
    "\n",
    "eff = 0.2 #fraction of true but not reco\n",
    "fake = 0.05 #fraction of reco but not true\n",
    "\n",
    "back = 0.3 #fraction of a background process that we would like to subtract"
   ]
  },
  {
   "cell_type": "code",
   "execution_count": 7,
   "metadata": {},
   "outputs": [],
   "source": [
    "N = 10**5\n",
    "# param = (mu, sigma)\n",
    "theta0_param = (mu0, sigma0)  # synthetic sample\n",
    "theta_unknown_param = (0.2, 0.8)  # this is the data (the target)\n",
    "background_param = (0, 1.2)  # background\n",
    "epsilon = sigma0 / 2.  # Smearing width\n",
    "\n",
    "dummyval = -10 #a value for examples that don't pass one of the measured/ideal selections"
   ]
  },
  {
   "cell_type": "code",
   "execution_count": 8,
   "metadata": {},
   "outputs": [],
   "source": [
    "#Synthetic\n",
    "theta0_G = np.random.normal(theta0_param[0], theta0_param[1],N)  # Generator-level synthetic sample\n",
    "theta0_S = np.array([(x + np.random.normal(0, epsilon)) for x in theta0_G])  # Detector smearing for synthetic sample\n",
    "pass_reco = np.random.binomial(1,1.-eff,len(theta0_G))\n",
    "pass_truth = np.random.binomial(1,1.-fake,len(theta0_G)) # what a concise Toy MC with cuts!\n",
    "theta0_S[pass_reco==0] = dummyval\n",
    "theta0_G[pass_truth==0] = dummyval"
   ]
  },
  {
   "cell_type": "code",
   "execution_count": 9,
   "metadata": {},
   "outputs": [],
   "source": [
    "\n",
    "\n",
    "\n",
    "theta0_background = np.random.normal(background_param[0],background_param[1], int(N*back))\n",
    "theta0_S_withback = np.concatenate([theta0_S,theta0_background]) #smeared synthetic (mc_reco)+background\n",
    "theta0_G_withback = np.concatenate([theta0_G,-np.ones(int(N*back))*dummyval]) #gen synthetic (mc_truth)+background\n",
    "\n",
    "theta0 = np.stack([theta0_G, theta0_S], axis=1)\n",
    "labels0 = np.zeros(len(theta0))"
   ]
  },
  {
   "cell_type": "code",
   "execution_count": 10,
   "metadata": {
    "ExecuteTime": {
     "end_time": "2020-11-17T03:49:24.308730Z",
     "start_time": "2020-11-17T03:48:59.981078Z"
    }
   },
   "outputs": [],
   "source": [
    "\n",
    "\n",
    "#Natural\n",
    "theta_unknown_G = np.random.normal(theta_unknown_param[0],theta_unknown_param[1], N) # Nature, particle-level analog\n",
    "theta_unknown_S = np.array([(x + np.random.normal(0, epsilon)) for x in theta_unknown_G]) # Measured Data analog\n",
    "pass_reco = np.random.binomial(1,1.-eff,len(theta_unknown_G))\n",
    "pass_truth = np.random.binomial(1,1.-fake,len(theta_unknown_G))\n",
    "theta_unknown_S[pass_reco==0] = dummyval\n",
    "theta_unknown_G[pass_truth==0] = dummyval #emulates cuts done in an analysis\n",
    "\n",
    "theta_background = np.random.normal(background_param[0],background_param[1], int(N*back))\n",
    "theta_unknown_S_withback = np.concatenate([theta_unknown_S,theta_background]) #Nature+background\n",
    "theta_unknown_G_withback = np.concatenate([theta_unknown_G,-np.ones(int(N*back))*dummyval]) #Data+Background\n",
    "\n",
    "theta_unknown = np.stack([theta_unknown_G, theta_unknown_S], axis=1)\n",
    "labels_unknown = np.ones(len(theta_unknown))"
   ]
  },
  {
   "cell_type": "code",
   "execution_count": null,
   "metadata": {},
   "outputs": [],
   "source": []
  },
  {
   "cell_type": "code",
   "execution_count": 11,
   "metadata": {
    "ExecuteTime": {
     "end_time": "2020-11-17T03:49:29.592393Z",
     "start_time": "2020-11-17T03:49:24.310793Z"
    }
   },
   "outputs": [
    {
     "name": "stderr",
     "output_type": "stream",
     "text": [
      "/tmp/ipykernel_66033/177983796.py:30: UserWarning: FigureCanvasAgg is non-interactive, and thus cannot be shown\n",
      "  fig.show()\n"
     ]
    },
    {
     "data": {
      "image/png": "[encoded data removed]",
      "text/plain": [
       "<Figure size 1200x500 with 2 Axes>"
      ]
     },
     "metadata": {},
     "output_type": "display_data"
    }
   ],
   "source": [
    "bins = np.linspace(-11, 11, 41)\n",
    "\n",
    "fig, ax = plt.subplots(1,\n",
    "                       2,\n",
    "                       figsize=(12, 5),\n",
    "                       constrained_layout=True,\n",
    "                       sharey=True)\n",
    "\n",
    "ax[0].set_xlabel(r'$x$')\n",
    "ax[0].set_ylabel(r'Events per bin')\n",
    "ax[0].hist(theta0_G[theta0_G!=dummyval], bins=bins, **plot_style_2, label='Generation')\n",
    "ax[0].hist(theta0_S_withback[theta0_S_withback!=dummyval], bins=bins, **plot_style_2, label='Simulation')\n",
    "ax[0].hist(theta0_S_withback[theta0_G_withback==-dummyval], bins=bins, color=\"darkorange\", label='Background')\n",
    "legend = ax[0].legend(\n",
    "    title=r'Synthetic''\\n''($\\mu$, $\\sigma$) = {}'.format(theta0_param),\n",
    "    loc='upper left',\n",
    "    frameon=False)\n",
    "plt.setp(legend.get_title(), multialignment='center')\n",
    "\n",
    "ax[1].set_xlabel(r'$x$')\n",
    "ax[1].hist(theta_unknown_G[theta_unknown_G!=dummyval], bins=bins, **plot_style_2, label='Truth',color=\"green\")\n",
    "ax[1].hist(theta_unknown_S_withback[theta_unknown_S_withback!=dummyval], bins=bins, **plot_style_2, label='Data',color=\"black\")\n",
    "ax[1].hist(theta_unknown_S_withback[theta_unknown_G_withback==-dummyval], bins=bins, label='Background',color=\"black\")\n",
    "legend = ax[1].legend(\n",
    "    title=r'Natural''\\n''($\\mu$, $\\sigma$) = {}'.format(theta_unknown_param),\n",
    "    loc='upper left',\n",
    "    frameon=False)\n",
    "plt.setp(legend.get_title(), multialignment='center')\n",
    "\n",
    "fig.show()"
   ]
  },
  {
   "cell_type": "markdown",
   "metadata": {},
   "source": [
    "## Unfold Data"
   ]
  },
  {
   "cell_type": "code",
   "execution_count": 12,
   "metadata": {
    "ExecuteTime": {
     "end_time": "2020-11-17T03:49:29.597528Z",
     "start_time": "2020-11-17T03:49:29.594288Z"
    }
   },
   "outputs": [],
   "source": [
    "iterations = 4"
   ]
  },
  {
   "cell_type": "code",
   "execution_count": 13,
   "metadata": {
    "ExecuteTime": {
     "end_time": "2020-11-17T03:49:29.688675Z",
     "start_time": "2020-11-17T03:49:29.599367Z"
    }
   },
   "outputs": [
    {
     "name": "stderr",
     "output_type": "stream",
     "text": [
      "2024-02-20 13:25:18.725488: I tensorflow/compiler/xla/stream_executor/cuda/cuda_gpu_executor.cc:981] could not open file to read NUMA node: /sys/bus/pci/devices/0000:01:00.0/numa_node\n",
      "Your kernel may have been built without NUMA support.\n",
      "2024-02-20 13:25:18.725570: I tensorflow/compiler/xla/stream_executor/cuda/cuda_gpu_executor.cc:981] could not open file to read NUMA node: /sys/bus/pci/devices/0000:01:00.0/numa_node\n",
      "Your kernel may have been built without NUMA support.\n",
      "2024-02-20 13:25:18.725589: I tensorflow/compiler/xla/stream_executor/cuda/cuda_gpu_executor.cc:981] could not open file to read NUMA node: /sys/bus/pci/devices/0000:01:00.0/numa_node\n",
      "Your kernel may have been built without NUMA support.\n",
      "2024-02-20 13:25:19.991961: I tensorflow/compiler/xla/stream_executor/cuda/cuda_gpu_executor.cc:981] could not open file to read NUMA node: /sys/bus/pci/devices/0000:01:00.0/numa_node\n",
      "Your kernel may have been built without NUMA support.\n",
      "2024-02-20 13:25:19.991988: I tensorflow/core/common_runtime/gpu/gpu_device.cc:1726] Could not identify NUMA node of platform GPU id 0, defaulting to 0.  Your kernel may not have been built with NUMA support.\n",
      "2024-02-20 13:25:19.992057: I tensorflow/compiler/xla/stream_executor/cuda/cuda_gpu_executor.cc:981] could not open file to read NUMA node: /sys/bus/pci/devices/0000:01:00.0/numa_node\n",
      "Your kernel may have been built without NUMA support.\n",
      "2024-02-20 13:25:19.992080: I tensorflow/compiler/xla/stream_executor/cuda/cuda_gpu_executor.cc:981] could not open file to read NUMA node: /sys/bus/pci/devices/0000:01:00.0/numa_node\n",
      "Your kernel may have been built without NUMA support.\n",
      "2024-02-20 13:25:19.992151: I tensorflow/core/common_runtime/gpu/gpu_device.cc:1639] Created device /job:localhost/replica:0/task:0/device:GPU:0 with 1024 MB memory:  -> device: 0, name: NVIDIA GeForce RTX 3050 Ti Laptop GPU, pci bus id: 0000:01:00.0, compute capability: 8.6\n"
     ]
    }
   ],
   "source": [
    "xvals_1 = np.concatenate((theta0_S, theta_unknown_S)) #synthetic, measured.\n",
    "yvals_1 = np.concatenate((labels0, labels_unknown)) \n",
    "#QUESTION: At what point are theses mixed? Avoid [0,0,0...0,1,1...1,1,1]\n",
    "#I think at test_train_split function\n",
    "\n",
    "xvals_2 = np.concatenate((theta0_G, theta0_G)) \n",
    "#QUESTION whay 0_G twice? Because theta_unknown_G is ultimate target (particle level – nature), \n",
    "#and can't be used as an input to the training.\n",
    "yvals_2 = np.concatenate((labels0, labels_unknown))\n",
    "\n",
    "weights = np.empty(shape=(iterations, 2, len(theta0)))\n",
    "# shape = (iteration, step, event)\n",
    "\n",
    "inputs = Input((1, ))\n",
    "hidden_layer_1 = Dense(50, activation='relu')(inputs)\n",
    "hidden_layer_2 = Dense(50, activation='relu')(hidden_layer_1)\n",
    "hidden_layer_3 = Dense(50, activation='relu')(hidden_layer_2)\n",
    "outputs = Dense(1, activation='sigmoid')(hidden_layer_3)\n",
    "\n",
    "model = Model(inputs=inputs, outputs=outputs)\n",
    "\n",
    "earlystopping = EarlyStopping(patience=10,\n",
    "                              verbose=1,\n",
    "                              restore_best_weights=True)"
   ]
  },
  {
   "cell_type": "code",
   "execution_count": 14,
   "metadata": {},
   "outputs": [
    {
     "name": "stdout",
     "output_type": "stream",
     "text": [
      "(200000,)\n",
      "(200000,)\n"
     ]
    }
   ],
   "source": [
    "print(xvals_1.shape)\n",
    "print(yvals_1.shape)\n",
    "\n"
   ]
  },
  {
   "cell_type": "code",
   "execution_count": 15,
   "metadata": {},
   "outputs": [
    {
     "name": "stdout",
     "output_type": "stream",
     "text": [
      "(4, 2, 100000)\n"
     ]
    }
   ],
   "source": [
    "print (weights.shape)"
   ]
  },
  {
   "cell_type": "code",
   "execution_count": 16,
   "metadata": {
    "ExecuteTime": {
     "end_time": "2020-11-17T03:49:29.695163Z",
     "start_time": "2020-11-17T03:49:29.690659Z"
    }
   },
   "outputs": [],
   "source": [
    "# from NN (DCTR)\n",
    "def reweight(events):\n",
    "    f = model.predict(events, batch_size=10000)\n",
    "    weights = f / (1. - f)\n",
    "    return np.squeeze(np.nan_to_num(weights)) \n",
    "#Question: how is the model passed? Stored in memory before function is called?\n",
    "#QUESTION: is this p(w,X)/p(w',X'), where p is PDF of (x)?\n",
    "#reweights sim to data, then "
   ]
  },
  {
   "cell_type": "code",
   "execution_count": 24,
   "metadata": {},
   "outputs": [],
   "source": [
    "#We can do the background subtraction as part of the iterative unfolding, but it is easier to do it first.\n",
    "\n",
    "    \n",
    "x_data_and_MCback = np.concatenate([theta0_S_withback[theta0_G_withback==-dummyval],\n",
    "                                    theta_unknown_S_withback[theta_unknown_S_withback!=dummyval],\n",
    "                                    theta_unknown_S_withback[theta_unknown_S_withback!=dummyval]])\n",
    "    \n",
    "y_data_and_MCback = np.concatenate([np.ones(len(theta0_S_withback[theta0_G_withback==-dummyval])),\n",
    "                                    np.ones(len(theta_unknown_S_withback[theta_unknown_S_withback!=dummyval])),\n",
    "                                    np.zeros(len(theta_unknown_S_withback[theta_unknown_S_withback!=dummyval]))])\n",
    "    \n",
    "W_data_and_MCback = np.concatenate([-1.*np.ones(len(theta0_S_withback[theta0_G_withback==-dummyval])),\n",
    "                                    np.ones(len(theta_unknown_S_withback[theta_unknown_S_withback!=dummyval])),\n",
    "                                    np.ones(len(theta_unknown_S_withback[theta_unknown_S_withback!=dummyval]))])\n",
    "\n",
    "# X_train_1, X_test_1, Y_train_1, Y_test_1, w_train_1, w_test_1 = train_test_split(\n",
    "#     x_data_and_MCback, y_data_and_MCback, W_data_and_MCback)\n",
    "\n",
    "    \n",
    "# model.compile(loss='binary_crossentropy',\n",
    "#               optimizer='Adam',\n",
    "#               metrics=['accuracy'])\n",
    "# model.fit(X_train_1,\n",
    "#           Y_train_1,\n",
    "#           sample_weight=w_train_1,\n",
    "#           epochs=200,\n",
    "#           batch_size=10000,\n",
    "#           validation_data=(X_test_1, Y_test_1, w_test_1),\n",
    "#           callbacks=[earlystopping],\n",
    "#           verbose=1)"
   ]
  },
  {
   "cell_type": "code",
   "execution_count": 30,
   "metadata": {},
   "outputs": [
    {
     "name": "stdout",
     "output_type": "stream",
     "text": [
      "theta0_S_withback[theta0_G_withback==-dummyval].shape\n",
      "(30000,)\n",
      "theta_unknown_S_withback[theta_unknown_S_withback!=dummyval].shape\n",
      "(109846,)\n",
      "                                                  \n",
      "np.ones(len(theta0_S_withback[theta0_G_withback==-dummyval])).shape\n",
      "(30000,)\n",
      "np.ones(len(theta_unknown_S_withback[theta_unknown_S_withback!=dummyval])).shape\n",
      "(109846,)\n",
      "                                                  \n",
      "np.ones(len(theta0_S_withback[theta0_G_withback==-dummyval])).shape\n",
      "(30000,)\n",
      "np.ones(len(theta_unknown_S_withback[theta_unknown_S_withback!=dummyval])).shape\n",
      "(109846,)\n",
      "                                                  \n",
      "x_data_and_MCback.shape\n",
      "(249692,)\n"
     ]
    }
   ],
   "source": [
    "print (\"theta0_S_withback[theta0_G_withback==-dummyval].shape\")\n",
    "print (theta0_S_withback[theta0_G_withback==-dummyval].shape)\n",
    "print (\"theta_unknown_S_withback[theta_unknown_S_withback!=dummyval].shape\")\n",
    "print (theta_unknown_S_withback[theta_unknown_S_withback!=dummyval].shape)\n",
    "print (\"                                                  \")\n",
    "print (\"np.ones(len(theta0_S_withback[theta0_G_withback==-dummyval])).shape\")\n",
    "print (np.ones(len(theta0_S_withback[theta0_G_withback==-dummyval])).shape)\n",
    "print (\"np.ones(len(theta_unknown_S_withback[theta_unknown_S_withback!=dummyval])).shape\")\n",
    "print (np.ones(len(theta_unknown_S_withback[theta_unknown_S_withback!=dummyval])).shape)\n",
    "print (\"                                                  \")\n",
    "print (\"np.ones(len(theta0_S_withback[theta0_G_withback==-dummyval])).shape\")\n",
    "print (np.ones(len(theta0_S_withback[theta0_G_withback==-dummyval])).shape)\n",
    "print (\"np.ones(len(theta_unknown_S_withback[theta_unknown_S_withback!=dummyval])).shape\")\n",
    "print (np.ones(len(theta_unknown_S_withback[theta_unknown_S_withback!=dummyval])).shape)\n",
    "\n",
    "\n",
    "\n",
    "\n",
    "print (\"                                                  \")\n",
    "print (\"x_data_and_MCback.shape\")\n",
    "print (x_data_and_MCback.shape)"
   ]
  },
  {
   "cell_type": "code",
   "execution_count": 18,
   "metadata": {},
   "outputs": [
    {
     "name": "stdout",
     "output_type": "stream",
     "text": [
      "11/11 [==============================] - 0s 2ms/step\n"
     ]
    }
   ],
   "source": [
    "w_data = reweight(theta_unknown_S_withback[theta_unknown_S_withback!=dummyval])"
   ]
  },
  {
   "cell_type": "code",
   "execution_count": 19,
   "metadata": {},
   "outputs": [
    {
     "name": "stderr",
     "output_type": "stream",
     "text": [
      "/tmp/ipykernel_66033/4054957132.py:30: UserWarning: FigureCanvasAgg is non-interactive, and thus cannot be shown\n",
      "  fig.show()\n"
     ]
    },
    {
     "data": {
      "image/png": "[encoded data removed]",
      "text/plain": [
       "<Figure size 1200x500 with 2 Axes>"
      ]
     },
     "metadata": {},
     "output_type": "display_data"
    }
   ],
   "source": [
    "i=0\n",
    "bins = np.linspace(-11, 11, 41)\n",
    "\n",
    "fig, ax = plt.subplots(1,\n",
    "                       2,\n",
    "                       figsize=(12, 5),\n",
    "                       constrained_layout=True,\n",
    "                       sharey=True)\n",
    "\n",
    "ax[0].set_xlabel(r'$x$')\n",
    "ax[0].set_ylabel('Events per bin')\n",
    "ax[0].hist(theta0_G[theta0_G!=dummyval], bins=bins, **plot_style_2, label='Generation')\n",
    "ax[0].hist(theta0_S[theta0_S!=dummyval], bins=bins, **plot_style_2, label='Simulation (no back.)')\n",
    "legend = ax[0].legend(\n",
    "    title='Synthetic\\n($\\mu$, $\\sigma$) = {}'.format(theta0_param),\n",
    "    loc='upper left',\n",
    "    frameon=False)\n",
    "plt.setp(legend.get_title(), multialignment='center')\n",
    "\n",
    "ax[1].set_xlabel('$x$')\n",
    "ax[1].hist(theta_unknown_G[theta_unknown_G!=dummyval], bins=bins, **plot_style_2, label='Truth',color=\"green\")\n",
    "ax[1].hist(theta_unknown_S[theta_unknown_S!=dummyval], bins=bins, **plot_style_2, label='Data (no back.)',color=\"black\")\n",
    "ax[1].hist(theta_unknown_S_withback[theta_unknown_S_withback!=dummyval], bins=bins, histtype=\"step\", label='Data (reweighted)',color=\"black\",weights=w_data)\n",
    "legend = ax[1].legend(\n",
    "    title='Natural\\n($\\mu$, $\\sigma$) = {}'.format(theta_unknown_param),\n",
    "    loc='upper left',\n",
    "    frameon=False)\n",
    "plt.setp(legend.get_title(), multialignment='center')\n",
    "\n",
    "fig.show()\n",
    "plt.savefig(\"plot_\"+str(i)+\"_datareweight.pdf\")"
   ]
  },
  {
   "cell_type": "code",
   "execution_count": 20,
   "metadata": {},
   "outputs": [],
   "source": [
    "# initial iterative weights are ones\n",
    "weights_pull = np.ones(len(theta0_S))\n",
    "weights_push = np.ones(len(theta0_S))"
   ]
  },
  {
   "cell_type": "code",
   "execution_count": 21,
   "metadata": {},
   "outputs": [],
   "source": [
    "xvals_1 = np.concatenate((theta0_S, theta_unknown_S_withback[theta_unknown_S_withback!=dummyval]))\n",
    "yvals_1 = np.concatenate((labels0, np.ones(len(theta_unknown_S_withback[theta_unknown_S_withback!=dummyval]))))"
   ]
  },
  {
   "cell_type": "code",
   "execution_count": 22,
   "metadata": {
    "ExecuteTime": {
     "end_time": "2020-11-17T04:28:20.621248Z",
     "start_time": "2020-11-17T03:49:29.711813Z"
    }
   },
   "outputs": [
    {
     "name": "stdout",
     "output_type": "stream",
     "text": [
      "\n",
      "ITERATION: 1\n",
      "\n",
      "STEP 1\n",
      "\n",
      "Epoch 1/200\n",
      "13/15 [=========================>....] - ETA: 0s - loss: 0.5805 - accuracy: 0.4487WARNING:tensorflow:`evaluate()` received a value for `sample_weight`, but `weighted_metrics` were not provided.  Did you mean to pass metrics to `weighted_metrics` in `compile()`?  If this is intentional you can pass `weighted_metrics=[]` to `compile()` in order to silence this warning.\n",
      "15/15 [==============================] - 1s 19ms/step - loss: 0.5802 - accuracy: 0.4554 - val_loss: 0.5765 - val_accuracy: 0.5214\n",
      "Epoch 2/200\n",
      "11/15 [=====================>........] - ETA: 0s - loss: 0.5759 - accuracy: 0.5342WARNING:tensorflow:`evaluate()` received a value for `sample_weight`, but `weighted_metrics` were not provided.  Did you mean to pass metrics to `weighted_metrics` in `compile()`?  If this is intentional you can pass `weighted_metrics=[]` to `compile()` in order to silence this warning.\n",
      "15/15 [==============================] - 0s 16ms/step - loss: 0.5755 - accuracy: 0.5364 - val_loss: 0.5748 - val_accuracy: 0.5446\n",
      "Epoch 3/200\n",
      "14/15 [===========================>..] - ETA: 0s - loss: 0.5741 - accuracy: 0.5552WARNING:tensorflow:`evaluate()` received a value for `sample_weight`, but `weighted_metrics` were not provided.  Did you mean to pass metrics to `weighted_metrics` in `compile()`?  If this is intentional you can pass `weighted_metrics=[]` to `compile()` in order to silence this warning.\n",
      "15/15 [==============================] - 0s 15ms/step - loss: 0.5741 - accuracy: 0.5555 - val_loss: 0.5739 - val_accuracy: 0.5581\n",
      "Epoch 4/200\n",
      "15/15 [==============================] - ETA: 0s - loss: 0.5734 - accuracy: 0.5647WARNING:tensorflow:`evaluate()` received a value for `sample_weight`, but `weighted_metrics` were not provided.  Did you mean to pass metrics to `weighted_metrics` in `compile()`?  If this is intentional you can pass `weighted_metrics=[]` to `compile()` in order to silence this warning.\n",
      "15/15 [==============================] - 0s 11ms/step - loss: 0.5734 - accuracy: 0.5647 - val_loss: 0.5735 - val_accuracy: 0.5652\n",
      "Epoch 5/200\n",
      " 9/15 [=================>............] - ETA: 0s - loss: 0.5731 - accuracy: 0.5674WARNING:tensorflow:`evaluate()` received a value for `sample_weight`, but `weighted_metrics` were not provided.  Did you mean to pass metrics to `weighted_metrics` in `compile()`?  If this is intentional you can pass `weighted_metrics=[]` to `compile()` in order to silence this warning.\n",
      "15/15 [==============================] - 0s 10ms/step - loss: 0.5732 - accuracy: 0.5671 - val_loss: 0.5734 - val_accuracy: 0.5651\n",
      "Epoch 6/200\n",
      " 9/15 [=================>............] - ETA: 0s - loss: 0.5734 - accuracy: 0.5666WARNING:tensorflow:`evaluate()` received a value for `sample_weight`, but `weighted_metrics` were not provided.  Did you mean to pass metrics to `weighted_metrics` in `compile()`?  If this is intentional you can pass `weighted_metrics=[]` to `compile()` in order to silence this warning.\n",
      "15/15 [==============================] - 0s 8ms/step - loss: 0.5731 - accuracy: 0.5663 - val_loss: 0.5734 - val_accuracy: 0.5652\n",
      "Epoch 7/200\n",
      "13/15 [=========================>....] - ETA: 0s - loss: 0.5731 - accuracy: 0.5648WARNING:tensorflow:`evaluate()` received a value for `sample_weight`, but `weighted_metrics` were not provided.  Did you mean to pass metrics to `weighted_metrics` in `compile()`?  If this is intentional you can pass `weighted_metrics=[]` to `compile()` in order to silence this warning.\n",
      "15/15 [==============================] - 0s 7ms/step - loss: 0.5730 - accuracy: 0.5652 - val_loss: 0.5733 - val_accuracy: 0.5636\n",
      "Epoch 8/200\n",
      "14/15 [===========================>..] - ETA: 0s - loss: 0.5729 - accuracy: 0.5651WARNING:tensorflow:`evaluate()` received a value for `sample_weight`, but `weighted_metrics` were not provided.  Did you mean to pass metrics to `weighted_metrics` in `compile()`?  If this is intentional you can pass `weighted_metrics=[]` to `compile()` in order to silence this warning.\n",
      "15/15 [==============================] - 0s 7ms/step - loss: 0.5729 - accuracy: 0.5649 - val_loss: 0.5733 - val_accuracy: 0.5599\n",
      "Epoch 9/200\n",
      "13/15 [=========================>....] - ETA: 0s - loss: 0.5729 - accuracy: 0.5624WARNING:tensorflow:`evaluate()` received a value for `sample_weight`, but `weighted_metrics` were not provided.  Did you mean to pass metrics to `weighted_metrics` in `compile()`?  If this is intentional you can pass `weighted_metrics=[]` to `compile()` in order to silence this warning.\n",
      "15/15 [==============================] - 0s 7ms/step - loss: 0.5729 - accuracy: 0.5625 - val_loss: 0.5734 - val_accuracy: 0.5611\n",
      "Epoch 10/200\n",
      "13/15 [=========================>....] - ETA: 0s - loss: 0.5729 - accuracy: 0.5616WARNING:tensorflow:`evaluate()` received a value for `sample_weight`, but `weighted_metrics` were not provided.  Did you mean to pass metrics to `weighted_metrics` in `compile()`?  If this is intentional you can pass `weighted_metrics=[]` to `compile()` in order to silence this warning.\n",
      "15/15 [==============================] - 0s 7ms/step - loss: 0.5729 - accuracy: 0.5619 - val_loss: 0.5732 - val_accuracy: 0.5609\n",
      "Epoch 11/200\n",
      "13/15 [=========================>....] - ETA: 0s - loss: 0.5726 - accuracy: 0.5639WARNING:tensorflow:`evaluate()` received a value for `sample_weight`, but `weighted_metrics` were not provided.  Did you mean to pass metrics to `weighted_metrics` in `compile()`?  If this is intentional you can pass `weighted_metrics=[]` to `compile()` in order to silence this warning.\n",
      "15/15 [==============================] - 0s 7ms/step - loss: 0.5729 - accuracy: 0.5631 - val_loss: 0.5733 - val_accuracy: 0.5545\n",
      "Epoch 12/200\n",
      "13/15 [=========================>....] - ETA: 0s - loss: 0.5728 - accuracy: 0.5608WARNING:tensorflow:`evaluate()` received a value for `sample_weight`, but `weighted_metrics` were not provided.  Did you mean to pass metrics to `weighted_metrics` in `compile()`?  If this is intentional you can pass `weighted_metrics=[]` to `compile()` in order to silence this warning.\n",
      "15/15 [==============================] - 0s 7ms/step - loss: 0.5729 - accuracy: 0.5608 - val_loss: 0.5733 - val_accuracy: 0.5561\n",
      "Epoch 13/200\n",
      "14/15 [===========================>..] - ETA: 0s - loss: 0.5728 - accuracy: 0.5572WARNING:tensorflow:`evaluate()` received a value for `sample_weight`, but `weighted_metrics` were not provided.  Did you mean to pass metrics to `weighted_metrics` in `compile()`?  If this is intentional you can pass `weighted_metrics=[]` to `compile()` in order to silence this warning.\n",
      "15/15 [==============================] - 0s 7ms/step - loss: 0.5729 - accuracy: 0.5572 - val_loss: 0.5733 - val_accuracy: 0.5628\n",
      "Epoch 14/200\n",
      "14/15 [===========================>..] - ETA: 0s - loss: 0.5729 - accuracy: 0.5591WARNING:tensorflow:`evaluate()` received a value for `sample_weight`, but `weighted_metrics` were not provided.  Did you mean to pass metrics to `weighted_metrics` in `compile()`?  If this is intentional you can pass `weighted_metrics=[]` to `compile()` in order to silence this warning.\n",
      "15/15 [==============================] - 0s 7ms/step - loss: 0.5729 - accuracy: 0.5594 - val_loss: 0.5733 - val_accuracy: 0.5607\n",
      "Epoch 15/200\n",
      "12/15 [=======================>......] - ETA: 0s - loss: 0.5729 - accuracy: 0.5621WARNING:tensorflow:`evaluate()` received a value for `sample_weight`, but `weighted_metrics` were not provided.  Did you mean to pass metrics to `weighted_metrics` in `compile()`?  If this is intentional you can pass `weighted_metrics=[]` to `compile()` in order to silence this warning.\n",
      "15/15 [==============================] - 0s 7ms/step - loss: 0.5728 - accuracy: 0.5617 - val_loss: 0.5732 - val_accuracy: 0.5572\n",
      "Epoch 16/200\n",
      " 1/15 [=>............................] - ETA: 0s - loss: 0.5750 - accuracy: 0.5587"
     ]
    },
    {
     "ename": "KeyboardInterrupt",
     "evalue": "",
     "output_type": "error",
     "traceback": [
      "\u001b[0;31m---------------------------------------------------------------------------\u001b[0m",
      "\u001b[0;31mKeyboardInterrupt\u001b[0m                         Traceback (most recent call last)",
      "Cell \u001b[0;32mIn[22], line 18\u001b[0m\n\u001b[1;32m     12\u001b[0m X_train_1, X_test_1, Y_train_1, Y_test_1, w_train_1, w_test_1 \u001b[38;5;241m=\u001b[39m train_test_split(\n\u001b[1;32m     13\u001b[0m     xvals_1, yvals_1, weights_1) \u001b[38;5;66;03m#REMINDER: made up of synthetic+measured\u001b[39;00m\n\u001b[1;32m     15\u001b[0m model\u001b[38;5;241m.\u001b[39mcompile(loss\u001b[38;5;241m=\u001b[39m\u001b[38;5;124m'\u001b[39m\u001b[38;5;124mbinary_crossentropy\u001b[39m\u001b[38;5;124m'\u001b[39m,\n\u001b[1;32m     16\u001b[0m               optimizer\u001b[38;5;241m=\u001b[39m\u001b[38;5;124m'\u001b[39m\u001b[38;5;124mAdam\u001b[39m\u001b[38;5;124m'\u001b[39m,\n\u001b[1;32m     17\u001b[0m               metrics\u001b[38;5;241m=\u001b[39m[\u001b[38;5;124m'\u001b[39m\u001b[38;5;124maccuracy\u001b[39m\u001b[38;5;124m'\u001b[39m])\n\u001b[0;32m---> 18\u001b[0m \u001b[43mmodel\u001b[49m\u001b[38;5;241;43m.\u001b[39;49m\u001b[43mfit\u001b[49m\u001b[43m(\u001b[49m\u001b[43mX_train_1\u001b[49m\u001b[43m[\u001b[49m\u001b[43mX_train_1\u001b[49m\u001b[38;5;241;43m!=\u001b[39;49m\u001b[43mdummyval\u001b[49m\u001b[43m]\u001b[49m\u001b[43m,\u001b[49m\n\u001b[1;32m     19\u001b[0m \u001b[43m          \u001b[49m\u001b[43mY_train_1\u001b[49m\u001b[43m[\u001b[49m\u001b[43mX_train_1\u001b[49m\u001b[38;5;241;43m!=\u001b[39;49m\u001b[43mdummyval\u001b[49m\u001b[43m]\u001b[49m\u001b[43m,\u001b[49m\n\u001b[1;32m     20\u001b[0m \u001b[43m          \u001b[49m\u001b[43msample_weight\u001b[49m\u001b[38;5;241;43m=\u001b[39;49m\u001b[43mw_train_1\u001b[49m\u001b[43m[\u001b[49m\u001b[43mX_train_1\u001b[49m\u001b[38;5;241;43m!=\u001b[39;49m\u001b[43mdummyval\u001b[49m\u001b[43m]\u001b[49m\u001b[43m,\u001b[49m\n\u001b[1;32m     21\u001b[0m \u001b[43m          \u001b[49m\u001b[43mepochs\u001b[49m\u001b[38;5;241;43m=\u001b[39;49m\u001b[38;5;241;43m200\u001b[39;49m\u001b[43m,\u001b[49m\n\u001b[1;32m     22\u001b[0m \u001b[43m          \u001b[49m\u001b[43mbatch_size\u001b[49m\u001b[38;5;241;43m=\u001b[39;49m\u001b[38;5;241;43m10000\u001b[39;49m\u001b[43m,\u001b[49m\n\u001b[1;32m     23\u001b[0m \u001b[43m          \u001b[49m\u001b[43mvalidation_data\u001b[49m\u001b[38;5;241;43m=\u001b[39;49m\u001b[43m(\u001b[49m\u001b[43mX_test_1\u001b[49m\u001b[43m[\u001b[49m\u001b[43mX_test_1\u001b[49m\u001b[38;5;241;43m!=\u001b[39;49m\u001b[43mdummyval\u001b[49m\u001b[43m]\u001b[49m\u001b[43m,\u001b[49m\u001b[43m \u001b[49m\u001b[43mY_test_1\u001b[49m\u001b[43m[\u001b[49m\u001b[43mX_test_1\u001b[49m\u001b[38;5;241;43m!=\u001b[39;49m\u001b[43mdummyval\u001b[49m\u001b[43m]\u001b[49m\u001b[43m,\u001b[49m\u001b[43m \u001b[49m\u001b[43mw_test_1\u001b[49m\u001b[43m[\u001b[49m\u001b[43mX_test_1\u001b[49m\u001b[38;5;241;43m!=\u001b[39;49m\u001b[43mdummyval\u001b[49m\u001b[43m]\u001b[49m\u001b[43m)\u001b[49m\u001b[43m,\u001b[49m\n\u001b[1;32m     24\u001b[0m \u001b[43m          \u001b[49m\u001b[43mcallbacks\u001b[49m\u001b[38;5;241;43m=\u001b[39;49m\u001b[43m[\u001b[49m\u001b[43mearlystopping\u001b[49m\u001b[43m]\u001b[49m\u001b[43m,\u001b[49m\n\u001b[1;32m     25\u001b[0m \u001b[43m          \u001b[49m\u001b[43mverbose\u001b[49m\u001b[38;5;241;43m=\u001b[39;49m\u001b[38;5;241;43m1\u001b[39;49m\u001b[43m)\u001b[49m\n\u001b[1;32m     27\u001b[0m weights_pull \u001b[38;5;241m=\u001b[39m weights_push \u001b[38;5;241m*\u001b[39m reweight(theta0_S) \n\u001b[1;32m     28\u001b[0m \u001b[38;5;66;03m#QUESTION: above model used in reweight function (model.predict)?\u001b[39;00m\n\u001b[1;32m     29\u001b[0m \u001b[38;5;66;03m#QUESTION: Model trains until synthetic is indistinguishable from data? How does this work? \u001b[39;00m\n\u001b[1;32m     30\u001b[0m \u001b[38;5;66;03m#How are weights then iteratively multiplied?\u001b[39;00m\n\u001b[0;32m   (...)\u001b[0m\n\u001b[1;32m     37\u001b[0m \n\u001b[1;32m     38\u001b[0m \u001b[38;5;66;03m#Another option is to assign the average weight: <w|x_true>.  To do this, we need to estimate this quantity.\u001b[39;00m\n",
      "File \u001b[0;32m~/install/miniconda3/envs/tf/lib/python3.11/site-packages/keras/src/utils/traceback_utils.py:65\u001b[0m, in \u001b[0;36mfilter_traceback.<locals>.error_handler\u001b[0;34m(*args, **kwargs)\u001b[0m\n\u001b[1;32m     63\u001b[0m filtered_tb \u001b[38;5;241m=\u001b[39m \u001b[38;5;28;01mNone\u001b[39;00m\n\u001b[1;32m     64\u001b[0m \u001b[38;5;28;01mtry\u001b[39;00m:\n\u001b[0;32m---> 65\u001b[0m     \u001b[38;5;28;01mreturn\u001b[39;00m \u001b[43mfn\u001b[49m\u001b[43m(\u001b[49m\u001b[38;5;241;43m*\u001b[39;49m\u001b[43margs\u001b[49m\u001b[43m,\u001b[49m\u001b[43m \u001b[49m\u001b[38;5;241;43m*\u001b[39;49m\u001b[38;5;241;43m*\u001b[39;49m\u001b[43mkwargs\u001b[49m\u001b[43m)\u001b[49m\n\u001b[1;32m     66\u001b[0m \u001b[38;5;28;01mexcept\u001b[39;00m \u001b[38;5;167;01mException\u001b[39;00m \u001b[38;5;28;01mas\u001b[39;00m e:\n\u001b[1;32m     67\u001b[0m     filtered_tb \u001b[38;5;241m=\u001b[39m _process_traceback_frames(e\u001b[38;5;241m.\u001b[39m__traceback__)\n",
      "File \u001b[0;32m~/install/miniconda3/envs/tf/lib/python3.11/site-packages/keras/src/engine/training.py:1742\u001b[0m, in \u001b[0;36mModel.fit\u001b[0;34m(self, x, y, batch_size, epochs, verbose, callbacks, validation_split, validation_data, shuffle, class_weight, sample_weight, initial_epoch, steps_per_epoch, validation_steps, validation_batch_size, validation_freq, max_queue_size, workers, use_multiprocessing)\u001b[0m\n\u001b[1;32m   1734\u001b[0m \u001b[38;5;28;01mwith\u001b[39;00m tf\u001b[38;5;241m.\u001b[39mprofiler\u001b[38;5;241m.\u001b[39mexperimental\u001b[38;5;241m.\u001b[39mTrace(\n\u001b[1;32m   1735\u001b[0m     \u001b[38;5;124m\"\u001b[39m\u001b[38;5;124mtrain\u001b[39m\u001b[38;5;124m\"\u001b[39m,\n\u001b[1;32m   1736\u001b[0m     epoch_num\u001b[38;5;241m=\u001b[39mepoch,\n\u001b[0;32m   (...)\u001b[0m\n\u001b[1;32m   1739\u001b[0m     _r\u001b[38;5;241m=\u001b[39m\u001b[38;5;241m1\u001b[39m,\n\u001b[1;32m   1740\u001b[0m ):\n\u001b[1;32m   1741\u001b[0m     callbacks\u001b[38;5;241m.\u001b[39mon_train_batch_begin(step)\n\u001b[0;32m-> 1742\u001b[0m     tmp_logs \u001b[38;5;241m=\u001b[39m \u001b[38;5;28;43mself\u001b[39;49m\u001b[38;5;241;43m.\u001b[39;49m\u001b[43mtrain_function\u001b[49m\u001b[43m(\u001b[49m\u001b[43miterator\u001b[49m\u001b[43m)\u001b[49m\n\u001b[1;32m   1743\u001b[0m     \u001b[38;5;28;01mif\u001b[39;00m data_handler\u001b[38;5;241m.\u001b[39mshould_sync:\n\u001b[1;32m   1744\u001b[0m         context\u001b[38;5;241m.\u001b[39masync_wait()\n",
      "File \u001b[0;32m~/install/miniconda3/envs/tf/lib/python3.11/site-packages/tensorflow/python/util/traceback_utils.py:150\u001b[0m, in \u001b[0;36mfilter_traceback.<locals>.error_handler\u001b[0;34m(*args, **kwargs)\u001b[0m\n\u001b[1;32m    148\u001b[0m filtered_tb \u001b[38;5;241m=\u001b[39m \u001b[38;5;28;01mNone\u001b[39;00m\n\u001b[1;32m    149\u001b[0m \u001b[38;5;28;01mtry\u001b[39;00m:\n\u001b[0;32m--> 150\u001b[0m   \u001b[38;5;28;01mreturn\u001b[39;00m \u001b[43mfn\u001b[49m\u001b[43m(\u001b[49m\u001b[38;5;241;43m*\u001b[39;49m\u001b[43margs\u001b[49m\u001b[43m,\u001b[49m\u001b[43m \u001b[49m\u001b[38;5;241;43m*\u001b[39;49m\u001b[38;5;241;43m*\u001b[39;49m\u001b[43mkwargs\u001b[49m\u001b[43m)\u001b[49m\n\u001b[1;32m    151\u001b[0m \u001b[38;5;28;01mexcept\u001b[39;00m \u001b[38;5;167;01mException\u001b[39;00m \u001b[38;5;28;01mas\u001b[39;00m e:\n\u001b[1;32m    152\u001b[0m   filtered_tb \u001b[38;5;241m=\u001b[39m _process_traceback_frames(e\u001b[38;5;241m.\u001b[39m__traceback__)\n",
      "File \u001b[0;32m~/install/miniconda3/envs/tf/lib/python3.11/site-packages/tensorflow/python/eager/polymorphic_function/polymorphic_function.py:825\u001b[0m, in \u001b[0;36mFunction.__call__\u001b[0;34m(self, *args, **kwds)\u001b[0m\n\u001b[1;32m    822\u001b[0m compiler \u001b[38;5;241m=\u001b[39m \u001b[38;5;124m\"\u001b[39m\u001b[38;5;124mxla\u001b[39m\u001b[38;5;124m\"\u001b[39m \u001b[38;5;28;01mif\u001b[39;00m \u001b[38;5;28mself\u001b[39m\u001b[38;5;241m.\u001b[39m_jit_compile \u001b[38;5;28;01melse\u001b[39;00m \u001b[38;5;124m\"\u001b[39m\u001b[38;5;124mnonXla\u001b[39m\u001b[38;5;124m\"\u001b[39m\n\u001b[1;32m    824\u001b[0m \u001b[38;5;28;01mwith\u001b[39;00m OptionalXlaContext(\u001b[38;5;28mself\u001b[39m\u001b[38;5;241m.\u001b[39m_jit_compile):\n\u001b[0;32m--> 825\u001b[0m   result \u001b[38;5;241m=\u001b[39m \u001b[38;5;28;43mself\u001b[39;49m\u001b[38;5;241;43m.\u001b[39;49m\u001b[43m_call\u001b[49m\u001b[43m(\u001b[49m\u001b[38;5;241;43m*\u001b[39;49m\u001b[43margs\u001b[49m\u001b[43m,\u001b[49m\u001b[43m \u001b[49m\u001b[38;5;241;43m*\u001b[39;49m\u001b[38;5;241;43m*\u001b[39;49m\u001b[43mkwds\u001b[49m\u001b[43m)\u001b[49m\n\u001b[1;32m    827\u001b[0m new_tracing_count \u001b[38;5;241m=\u001b[39m \u001b[38;5;28mself\u001b[39m\u001b[38;5;241m.\u001b[39mexperimental_get_tracing_count()\n\u001b[1;32m    828\u001b[0m without_tracing \u001b[38;5;241m=\u001b[39m (tracing_count \u001b[38;5;241m==\u001b[39m new_tracing_count)\n",
      "File \u001b[0;32m~/install/miniconda3/envs/tf/lib/python3.11/site-packages/tensorflow/python/eager/polymorphic_function/polymorphic_function.py:857\u001b[0m, in \u001b[0;36mFunction._call\u001b[0;34m(self, *args, **kwds)\u001b[0m\n\u001b[1;32m    854\u001b[0m   \u001b[38;5;28mself\u001b[39m\u001b[38;5;241m.\u001b[39m_lock\u001b[38;5;241m.\u001b[39mrelease()\n\u001b[1;32m    855\u001b[0m   \u001b[38;5;66;03m# In this case we have created variables on the first call, so we run the\u001b[39;00m\n\u001b[1;32m    856\u001b[0m   \u001b[38;5;66;03m# defunned version which is guaranteed to never create variables.\u001b[39;00m\n\u001b[0;32m--> 857\u001b[0m   \u001b[38;5;28;01mreturn\u001b[39;00m \u001b[38;5;28;43mself\u001b[39;49m\u001b[38;5;241;43m.\u001b[39;49m\u001b[43m_no_variable_creation_fn\u001b[49m\u001b[43m(\u001b[49m\u001b[38;5;241;43m*\u001b[39;49m\u001b[43margs\u001b[49m\u001b[43m,\u001b[49m\u001b[43m \u001b[49m\u001b[38;5;241;43m*\u001b[39;49m\u001b[38;5;241;43m*\u001b[39;49m\u001b[43mkwds\u001b[49m\u001b[43m)\u001b[49m  \u001b[38;5;66;03m# pylint: disable=not-callable\u001b[39;00m\n\u001b[1;32m    858\u001b[0m \u001b[38;5;28;01melif\u001b[39;00m \u001b[38;5;28mself\u001b[39m\u001b[38;5;241m.\u001b[39m_variable_creation_fn \u001b[38;5;129;01mis\u001b[39;00m \u001b[38;5;129;01mnot\u001b[39;00m \u001b[38;5;28;01mNone\u001b[39;00m:\n\u001b[1;32m    859\u001b[0m   \u001b[38;5;66;03m# Release the lock early so that multiple threads can perform the call\u001b[39;00m\n\u001b[1;32m    860\u001b[0m   \u001b[38;5;66;03m# in parallel.\u001b[39;00m\n\u001b[1;32m    861\u001b[0m   \u001b[38;5;28mself\u001b[39m\u001b[38;5;241m.\u001b[39m_lock\u001b[38;5;241m.\u001b[39mrelease()\n",
      "File \u001b[0;32m~/install/miniconda3/envs/tf/lib/python3.11/site-packages/tensorflow/python/eager/polymorphic_function/tracing_compiler.py:148\u001b[0m, in \u001b[0;36mTracingCompiler.__call__\u001b[0;34m(self, *args, **kwargs)\u001b[0m\n\u001b[1;32m    145\u001b[0m \u001b[38;5;28;01mwith\u001b[39;00m \u001b[38;5;28mself\u001b[39m\u001b[38;5;241m.\u001b[39m_lock:\n\u001b[1;32m    146\u001b[0m   (concrete_function,\n\u001b[1;32m    147\u001b[0m    filtered_flat_args) \u001b[38;5;241m=\u001b[39m \u001b[38;5;28mself\u001b[39m\u001b[38;5;241m.\u001b[39m_maybe_define_function(args, kwargs)\n\u001b[0;32m--> 148\u001b[0m \u001b[38;5;28;01mreturn\u001b[39;00m \u001b[43mconcrete_function\u001b[49m\u001b[38;5;241;43m.\u001b[39;49m\u001b[43m_call_flat\u001b[49m\u001b[43m(\u001b[49m\n\u001b[1;32m    149\u001b[0m \u001b[43m    \u001b[49m\u001b[43mfiltered_flat_args\u001b[49m\u001b[43m,\u001b[49m\u001b[43m \u001b[49m\u001b[43mcaptured_inputs\u001b[49m\u001b[38;5;241;43m=\u001b[39;49m\u001b[43mconcrete_function\u001b[49m\u001b[38;5;241;43m.\u001b[39;49m\u001b[43mcaptured_inputs\u001b[49m\u001b[43m)\u001b[49m\n",
      "File \u001b[0;32m~/install/miniconda3/envs/tf/lib/python3.11/site-packages/tensorflow/python/eager/polymorphic_function/monomorphic_function.py:1349\u001b[0m, in \u001b[0;36mConcreteFunction._call_flat\u001b[0;34m(self, args, captured_inputs)\u001b[0m\n\u001b[1;32m   1345\u001b[0m possible_gradient_type \u001b[38;5;241m=\u001b[39m gradients_util\u001b[38;5;241m.\u001b[39mPossibleTapeGradientTypes(args)\n\u001b[1;32m   1346\u001b[0m \u001b[38;5;28;01mif\u001b[39;00m (possible_gradient_type \u001b[38;5;241m==\u001b[39m gradients_util\u001b[38;5;241m.\u001b[39mPOSSIBLE_GRADIENT_TYPES_NONE\n\u001b[1;32m   1347\u001b[0m     \u001b[38;5;129;01mand\u001b[39;00m executing_eagerly):\n\u001b[1;32m   1348\u001b[0m   \u001b[38;5;66;03m# No tape is watching; skip to running the function.\u001b[39;00m\n\u001b[0;32m-> 1349\u001b[0m   \u001b[38;5;28;01mreturn\u001b[39;00m \u001b[38;5;28mself\u001b[39m\u001b[38;5;241m.\u001b[39m_build_call_outputs(\u001b[38;5;28;43mself\u001b[39;49m\u001b[38;5;241;43m.\u001b[39;49m\u001b[43m_inference_function\u001b[49m\u001b[43m(\u001b[49m\u001b[38;5;241;43m*\u001b[39;49m\u001b[43margs\u001b[49m\u001b[43m)\u001b[49m)\n\u001b[1;32m   1350\u001b[0m forward_backward \u001b[38;5;241m=\u001b[39m \u001b[38;5;28mself\u001b[39m\u001b[38;5;241m.\u001b[39m_select_forward_and_backward_functions(\n\u001b[1;32m   1351\u001b[0m     args,\n\u001b[1;32m   1352\u001b[0m     possible_gradient_type,\n\u001b[1;32m   1353\u001b[0m     executing_eagerly)\n\u001b[1;32m   1354\u001b[0m forward_function, args_with_tangents \u001b[38;5;241m=\u001b[39m forward_backward\u001b[38;5;241m.\u001b[39mforward()\n",
      "File \u001b[0;32m~/install/miniconda3/envs/tf/lib/python3.11/site-packages/tensorflow/python/eager/polymorphic_function/atomic_function.py:196\u001b[0m, in \u001b[0;36mAtomicFunction.__call__\u001b[0;34m(self, *args)\u001b[0m\n\u001b[1;32m    194\u001b[0m \u001b[38;5;28;01mwith\u001b[39;00m record\u001b[38;5;241m.\u001b[39mstop_recording():\n\u001b[1;32m    195\u001b[0m   \u001b[38;5;28;01mif\u001b[39;00m \u001b[38;5;28mself\u001b[39m\u001b[38;5;241m.\u001b[39m_bound_context\u001b[38;5;241m.\u001b[39mexecuting_eagerly():\n\u001b[0;32m--> 196\u001b[0m     outputs \u001b[38;5;241m=\u001b[39m \u001b[38;5;28;43mself\u001b[39;49m\u001b[38;5;241;43m.\u001b[39;49m\u001b[43m_bound_context\u001b[49m\u001b[38;5;241;43m.\u001b[39;49m\u001b[43mcall_function\u001b[49m\u001b[43m(\u001b[49m\n\u001b[1;32m    197\u001b[0m \u001b[43m        \u001b[49m\u001b[38;5;28;43mself\u001b[39;49m\u001b[38;5;241;43m.\u001b[39;49m\u001b[43mname\u001b[49m\u001b[43m,\u001b[49m\n\u001b[1;32m    198\u001b[0m \u001b[43m        \u001b[49m\u001b[38;5;28;43mlist\u001b[39;49m\u001b[43m(\u001b[49m\u001b[43margs\u001b[49m\u001b[43m)\u001b[49m\u001b[43m,\u001b[49m\n\u001b[1;32m    199\u001b[0m \u001b[43m        \u001b[49m\u001b[38;5;28;43mlen\u001b[39;49m\u001b[43m(\u001b[49m\u001b[38;5;28;43mself\u001b[39;49m\u001b[38;5;241;43m.\u001b[39;49m\u001b[43mfunction_type\u001b[49m\u001b[38;5;241;43m.\u001b[39;49m\u001b[43mflat_outputs\u001b[49m\u001b[43m)\u001b[49m\u001b[43m,\u001b[49m\n\u001b[1;32m    200\u001b[0m \u001b[43m    \u001b[49m\u001b[43m)\u001b[49m\n\u001b[1;32m    201\u001b[0m   \u001b[38;5;28;01melse\u001b[39;00m:\n\u001b[1;32m    202\u001b[0m     outputs \u001b[38;5;241m=\u001b[39m make_call_op_in_graph(\u001b[38;5;28mself\u001b[39m, \u001b[38;5;28mlist\u001b[39m(args))\n",
      "File \u001b[0;32m~/install/miniconda3/envs/tf/lib/python3.11/site-packages/tensorflow/python/eager/context.py:1457\u001b[0m, in \u001b[0;36mContext.call_function\u001b[0;34m(self, name, tensor_inputs, num_outputs)\u001b[0m\n\u001b[1;32m   1455\u001b[0m cancellation_context \u001b[38;5;241m=\u001b[39m cancellation\u001b[38;5;241m.\u001b[39mcontext()\n\u001b[1;32m   1456\u001b[0m \u001b[38;5;28;01mif\u001b[39;00m cancellation_context \u001b[38;5;129;01mis\u001b[39;00m \u001b[38;5;28;01mNone\u001b[39;00m:\n\u001b[0;32m-> 1457\u001b[0m   outputs \u001b[38;5;241m=\u001b[39m \u001b[43mexecute\u001b[49m\u001b[38;5;241;43m.\u001b[39;49m\u001b[43mexecute\u001b[49m\u001b[43m(\u001b[49m\n\u001b[1;32m   1458\u001b[0m \u001b[43m      \u001b[49m\u001b[43mname\u001b[49m\u001b[38;5;241;43m.\u001b[39;49m\u001b[43mdecode\u001b[49m\u001b[43m(\u001b[49m\u001b[38;5;124;43m\"\u001b[39;49m\u001b[38;5;124;43mutf-8\u001b[39;49m\u001b[38;5;124;43m\"\u001b[39;49m\u001b[43m)\u001b[49m\u001b[43m,\u001b[49m\n\u001b[1;32m   1459\u001b[0m \u001b[43m      \u001b[49m\u001b[43mnum_outputs\u001b[49m\u001b[38;5;241;43m=\u001b[39;49m\u001b[43mnum_outputs\u001b[49m\u001b[43m,\u001b[49m\n\u001b[1;32m   1460\u001b[0m \u001b[43m      \u001b[49m\u001b[43minputs\u001b[49m\u001b[38;5;241;43m=\u001b[39;49m\u001b[43mtensor_inputs\u001b[49m\u001b[43m,\u001b[49m\n\u001b[1;32m   1461\u001b[0m \u001b[43m      \u001b[49m\u001b[43mattrs\u001b[49m\u001b[38;5;241;43m=\u001b[39;49m\u001b[43mattrs\u001b[49m\u001b[43m,\u001b[49m\n\u001b[1;32m   1462\u001b[0m \u001b[43m      \u001b[49m\u001b[43mctx\u001b[49m\u001b[38;5;241;43m=\u001b[39;49m\u001b[38;5;28;43mself\u001b[39;49m\u001b[43m,\u001b[49m\n\u001b[1;32m   1463\u001b[0m \u001b[43m  \u001b[49m\u001b[43m)\u001b[49m\n\u001b[1;32m   1464\u001b[0m \u001b[38;5;28;01melse\u001b[39;00m:\n\u001b[1;32m   1465\u001b[0m   outputs \u001b[38;5;241m=\u001b[39m execute\u001b[38;5;241m.\u001b[39mexecute_with_cancellation(\n\u001b[1;32m   1466\u001b[0m       name\u001b[38;5;241m.\u001b[39mdecode(\u001b[38;5;124m\"\u001b[39m\u001b[38;5;124mutf-8\u001b[39m\u001b[38;5;124m\"\u001b[39m),\n\u001b[1;32m   1467\u001b[0m       num_outputs\u001b[38;5;241m=\u001b[39mnum_outputs,\n\u001b[0;32m   (...)\u001b[0m\n\u001b[1;32m   1471\u001b[0m       cancellation_manager\u001b[38;5;241m=\u001b[39mcancellation_context,\n\u001b[1;32m   1472\u001b[0m   )\n",
      "File \u001b[0;32m~/install/miniconda3/envs/tf/lib/python3.11/site-packages/tensorflow/python/eager/execute.py:53\u001b[0m, in \u001b[0;36mquick_execute\u001b[0;34m(op_name, num_outputs, inputs, attrs, ctx, name)\u001b[0m\n\u001b[1;32m     51\u001b[0m \u001b[38;5;28;01mtry\u001b[39;00m:\n\u001b[1;32m     52\u001b[0m   ctx\u001b[38;5;241m.\u001b[39mensure_initialized()\n\u001b[0;32m---> 53\u001b[0m   tensors \u001b[38;5;241m=\u001b[39m \u001b[43mpywrap_tfe\u001b[49m\u001b[38;5;241;43m.\u001b[39;49m\u001b[43mTFE_Py_Execute\u001b[49m\u001b[43m(\u001b[49m\u001b[43mctx\u001b[49m\u001b[38;5;241;43m.\u001b[39;49m\u001b[43m_handle\u001b[49m\u001b[43m,\u001b[49m\u001b[43m \u001b[49m\u001b[43mdevice_name\u001b[49m\u001b[43m,\u001b[49m\u001b[43m \u001b[49m\u001b[43mop_name\u001b[49m\u001b[43m,\u001b[49m\n\u001b[1;32m     54\u001b[0m \u001b[43m                                      \u001b[49m\u001b[43minputs\u001b[49m\u001b[43m,\u001b[49m\u001b[43m \u001b[49m\u001b[43mattrs\u001b[49m\u001b[43m,\u001b[49m\u001b[43m \u001b[49m\u001b[43mnum_outputs\u001b[49m\u001b[43m)\u001b[49m\n\u001b[1;32m     55\u001b[0m \u001b[38;5;28;01mexcept\u001b[39;00m core\u001b[38;5;241m.\u001b[39m_NotOkStatusException \u001b[38;5;28;01mas\u001b[39;00m e:\n\u001b[1;32m     56\u001b[0m   \u001b[38;5;28;01mif\u001b[39;00m name \u001b[38;5;129;01mis\u001b[39;00m \u001b[38;5;129;01mnot\u001b[39;00m \u001b[38;5;28;01mNone\u001b[39;00m:\n",
      "\u001b[0;31mKeyboardInterrupt\u001b[0m: "
     ]
    }
   ],
   "source": [
    "for i in range(iterations):\n",
    "    print(\"\\nITERATION: {}\\n\".format(i + 1))\n",
    "\n",
    "    # STEP 1: classify Sim. (which is reweighted by weights_push) to Data\n",
    "    # weights reweighted Sim. --> Data\n",
    "    print(\"STEP 1\\n\")\n",
    "\n",
    "    weights_1 = np.concatenate((weights_push, w_data))\n",
    "    #QUESTION: concatenation here confuses me\n",
    "    # actual weights for Sim., ones for Data (not MC weights)\n",
    "\n",
    "    X_train_1, X_test_1, Y_train_1, Y_test_1, w_train_1, w_test_1 = train_test_split(\n",
    "        xvals_1, yvals_1, weights_1) #REMINDER: made up of synthetic+measured\n",
    "\n",
    "    model.compile(loss='binary_crossentropy',\n",
    "                  optimizer='Adam',\n",
    "                  metrics=['accuracy'])\n",
    "    model.fit(X_train_1[X_train_1!=dummyval],\n",
    "              Y_train_1[X_train_1!=dummyval],\n",
    "              sample_weight=w_train_1[X_train_1!=dummyval],\n",
    "              epochs=200,\n",
    "              batch_size=10000,\n",
    "              validation_data=(X_test_1[X_test_1!=dummyval], Y_test_1[X_test_1!=dummyval], w_test_1[X_test_1!=dummyval]),\n",
    "              callbacks=[earlystopping],\n",
    "              verbose=1)\n",
    "\n",
    "    weights_pull = weights_push * reweight(theta0_S) \n",
    "    #QUESTION: above model used in reweight function (model.predict)?\n",
    "    #QUESTION: Model trains until synthetic is indistinguishable from data? How does this work? \n",
    "    #How are weights then iteratively multiplied?\n",
    "    \n",
    "    ###\n",
    "    #Need to do something with events that don't pass reco.\n",
    "    \n",
    "    #One option is to take the prior:\n",
    "    #weights_pull[theta0_S==dummyval] = 1. \n",
    "    \n",
    "    #Another option is to assign the average weight: <w|x_true>.  To do this, we need to estimate this quantity.\n",
    "    xvals_1b = np.concatenate([theta0_G[theta0_S!=dummyval],theta0_G[theta0_S!=dummyval]])\n",
    "    yvals_1b = np.concatenate([np.ones(len(theta0_G[theta0_S!=dummyval])),np.zeros(len(theta0_G[theta0_S!=dummyval]))])\n",
    "    weights_1b = np.concatenate([weights_pull[theta0_S!=dummyval],np.ones(len(theta0_G[theta0_S!=dummyval]))])\n",
    "    \n",
    "    X_train_1b, X_test_1b, Y_train_1b, Y_test_1b, w_train_1b, w_test_1b = train_test_split(\n",
    "        xvals_1b, yvals_1b, weights_1b)    \n",
    "    \n",
    "    model.compile(loss='binary_crossentropy',\n",
    "                  optimizer='Adam',\n",
    "                  metrics=['accuracy'])\n",
    "    model.fit(X_train_1b,\n",
    "              Y_train_1b,\n",
    "              sample_weight=w_train_1b,\n",
    "              epochs=200,\n",
    "              batch_size=10000,\n",
    "              validation_data=(X_test_1b, Y_test_1b, w_test_1b),\n",
    "              callbacks=[earlystopping],\n",
    "              verbose=1)\n",
    "    \n",
    "    average_vals = reweight(theta0_G[theta0_S==dummyval])\n",
    "    weights_pull[theta0_S==dummyval] = average_vals\n",
    "    ###\n",
    "    \n",
    "    weights[i, :1, :] = weights_pull\n",
    "\n",
    "    # STEP 2: classify Gen. to reweighted Gen. (which is reweighted by weights_pull)\n",
    "    # weights Gen. --> reweighted Gen.\n",
    "    print(\"\\nSTEP 2\\n\")\n",
    "\n",
    "    weights_2 = np.concatenate((np.ones(len(theta0_G)), weights_pull))\n",
    "    # ones for Gen. (not MC weights), actual weights for (reweighted) Gen.\n",
    "\n",
    "    X_train_2, X_test_2, Y_train_2, Y_test_2, w_train_2, w_test_2 = train_test_split(\n",
    "        xvals_2, yvals_2, weights_2)\n",
    "\n",
    "    model.compile(loss='binary_crossentropy',\n",
    "                  optimizer='Adam',\n",
    "                  metrics=['accuracy'])\n",
    "    model.fit(X_train_2,\n",
    "              Y_train_2,\n",
    "              sample_weight=w_train_2,\n",
    "              epochs=200,\n",
    "              batch_size=2000,\n",
    "              validation_data=(X_test_2, Y_test_2, w_test_2),\n",
    "              callbacks=[earlystopping],\n",
    "              verbose=1)\n",
    "\n",
    "    weights_push = reweight(theta0_G)\n",
    "    ###\n",
    "    #Need to do something with events that don't pass truth    \n",
    "    \n",
    "    #One option is to take the prior:\n",
    "    #weights_push[theta0_G==dummyval] = 1. \n",
    "    \n",
    "    #Another option is to assign the average weight: <w|x_reco>.  To do this, we need to estimate this quantity.\n",
    "    xvals_1b = np.concatenate([theta0_S[theta0_G!=dummyval],theta0_S[theta0_G!=dummyval]])\n",
    "    yvals_1b = np.concatenate([np.ones(len(theta0_S[theta0_G!=dummyval])),np.zeros(len(theta0_S[theta0_G!=dummyval]))])\n",
    "    weights_1b = np.concatenate([weights_push[theta0_G!=dummyval],np.ones(len(theta0_S[theta0_G!=dummyval]))])\n",
    "    \n",
    "    X_train_1b, X_test_1b, Y_train_1b, Y_test_1b, w_train_1b, w_test_1b = train_test_split(\n",
    "        xvals_1b, yvals_1b, weights_1b)    \n",
    "    \n",
    "    model.compile(loss='binary_crossentropy',\n",
    "                  optimizer='Adam',\n",
    "                  metrics=['accuracy'])\n",
    "    model.fit(X_train_1b,\n",
    "              Y_train_1b,\n",
    "              sample_weight=w_train_1b,\n",
    "              epochs=200,\n",
    "              batch_size=10000,\n",
    "              validation_data=(X_test_1b, Y_test_1b, w_test_1b),\n",
    "              callbacks=[earlystopping],\n",
    "              verbose=1)\n",
    "    \n",
    "    average_vals = reweight(theta0_S[theta0_G==dummyval])\n",
    "    weights_push[theta0_G==dummyval] = average_vals\n",
    "    ###    \n",
    "    \n",
    "    weights[i, 1:2, :] = weights_push"
   ]
  },
  {
   "cell_type": "code",
   "execution_count": null,
   "metadata": {
    "ExecuteTime": {
     "end_time": "2020-11-17T04:28:25.400950Z",
     "start_time": "2020-11-17T04:28:20.626783Z"
    },
    "scrolled": false
   },
   "outputs": [],
   "source": [
    "bins = np.linspace(-4, 4, 41)\n",
    "\n",
    "plt.figure(figsize=(12, 5))\n",
    "\n",
    "fig, ax = plt.subplots(1,\n",
    "                       2,\n",
    "                       figsize=(12, 6),\n",
    "                       constrained_layout=True,\n",
    "                       sharey=True)\n",
    "\n",
    "#Detector-level\n",
    "ax[0].set_title(\"Initialization, Detector-level\",style='italic',loc='right')\n",
    "hist0 = ax[0].hist(theta0_S[theta0_S!=dummyval],\n",
    "                 bins=bins,\n",
    "                 color=\"orange\",\n",
    "                 label=r'($\\mu$, $\\sigma$) = {}'.format(theta0_param),\n",
    "                 **plot_style_2)\n",
    "\n",
    "_,_,_= ax[0].hist(\n",
    "    theta0_S[theta0_S!=0],\n",
    "    bins=bins,\n",
    "    label='($\\mu$, $\\sigma$) = {}\\nDCTR wgt.'.format(theta0_param),\n",
    "    **plot_style_1)\n",
    "_,_,_= ax[0].hist(theta_unknown_S[theta_unknown_S!=dummyval],\n",
    "                 bins=bins,\n",
    "                 label=r'($\\mu$, $\\sigma$) = ?',\n",
    "                 weights=weights[i, 0, :][theta_unknown_S!=dummyval],\n",
    "                 **plot_style_2,\n",
    "                color=\"black\")\n",
    "ax[0].legend(frameon=False)\n",
    "ax[0].set_xlabel(r\"$x_S$\")\n",
    "ax[0].set_ylabel(\"Events per bin\")\n",
    "\n",
    "#Particle-level\n",
    "ax[1].set_title(\"Initialization, Particle-level\",style='italic',loc='right')\n",
    "_,_,_=ax[1].hist(theta0_G[theta0_G!=dummyval],\n",
    "                 bins=bins,\n",
    "                 label=r'($\\mu$, $\\sigma$) = {}'.format(theta0_param),\n",
    "                 **plot_style_2)\n",
    "\n",
    "_,_,_= ax[1].hist(\n",
    "    theta0_G[theta0_G!=0],\n",
    "    bins=bins,\n",
    "    label='($\\mu$, $\\sigma$) = {}\\nDCTR wgt.'.format(theta0_param),\n",
    "    **plot_style_1)\n",
    "_,_,_= ax[1].hist(theta_unknown_G[theta_unknown_G!=dummyval],\n",
    "                 bins=bins,\n",
    "                 label=r'($\\mu$, $\\sigma$) = ?',\n",
    "                 **plot_style_2,\n",
    "                color=\"green\")\n",
    "ax[1].legend(frameon=False)\n",
    "ax[1].set_xlabel(r\"$x_G$\")\n",
    "ax[1].set_ylabel(\"Events per bin\")\n",
    "\n",
    "plt.savefig(\"plot_0.pdf\")\n",
    "\n",
    "#Iterations\n",
    "for i in range(iterations):\n",
    "    print(\"ITERATION {}:\".format(i + 1))\n",
    "    plt.figure(figsize=(12, 5))\n",
    "    \n",
    "    fig, ax = plt.subplots(1,2,\n",
    "                       figsize=(12, 6),\n",
    "                       constrained_layout=True,\n",
    "                       sharey=True)\n",
    "    \n",
    "    #Detector-level\n",
    "    ax[0].set_title(\"Iteration \" +str(i+1)+ \", Step 1\",style='italic',loc='right')\n",
    "    _,_,_ = ax[0].hist(theta0_S[theta0_S!=dummyval],\n",
    "                     bins=bins,\n",
    "                     label=r'($\\mu$, $\\sigma$) = {}'.format(theta0_param),\n",
    "                     color=\"orange\",\n",
    "                     **plot_style_2)\n",
    "\n",
    "    _,_,_ = ax[0].hist(\n",
    "        theta0_S[theta0_S!=dummyval],\n",
    "        bins=bins,\n",
    "        label='($\\mu$, $\\sigma$) = {}\\nDCTR wgt.'.format(theta0_param),\n",
    "        weights=weights[i, 0, :][theta0_S!=dummyval],\n",
    "        **plot_style_1)\n",
    "    _,_,_ = ax[0].hist(theta_unknown_S[theta_unknown_S!=dummyval],\n",
    "                     bins=bins,\n",
    "                     label=r'($\\mu$, $\\sigma$) = ?',\n",
    "                     **plot_style_2,\n",
    "                    color=\"black\")\n",
    "    ax[0].legend(frameon=False)\n",
    "    ax[0].set_xlabel(r\"$x_S$\")\n",
    "    ax[0].set_ylabel(\"Events per bin\")\n",
    "    \n",
    "    #Particle-level\n",
    "    ax[1].set_title(\"Iteration \" +str(i+1)+ \", Step 2\",style='italic',loc='right')\n",
    "    _,_,_ = ax[1].hist(theta0_G[theta0_G!=dummyval],\n",
    "                     bins=bins,\n",
    "                     label=r'($\\mu$, $\\sigma$) = {}'.format(theta0_param),\n",
    "                     **plot_style_2)\n",
    "\n",
    "    _,_,_ = ax[1].hist(\n",
    "        theta0_G[theta0_G!=dummyval],\n",
    "        bins=bins,\n",
    "        label='($\\mu$, $\\sigma$) = {}\\nDCTR wgt.'.format(theta0_param),\n",
    "        weights=weights[i, 1, :][theta0_G!=dummyval],\n",
    "        **plot_style_1)\n",
    "    _,_,_ = ax[1].hist(theta_unknown_G[theta_unknown_G!=dummyval],\n",
    "                     bins=bins,\n",
    "                     label=r'($\\mu$, $\\sigma$) = ?',\n",
    "                     **plot_style_2,\n",
    "                    color=\"green\")\n",
    "    ax[1].legend(frameon=False)\n",
    "    ax[1].set_xlabel(r\"$x_G$\")\n",
    "    ax[1].set_ylabel(\"Events per bin\")\n",
    "    \n",
    "    plt.savefig(\"plot_\"+str(i+1)+\".pdf\")"
   ]
  }
 ],
 "metadata": {
  "kernelspec": {
   "display_name": "Python 3 (ipykernel)",
   "language": "python",
   "name": "python3"
  },
  "language_info": {
   "codemirror_mode": {
    "name": "ipython",
    "version": 3
   },
   "file_extension": ".py",
   "mimetype": "text/x-python",
   "name": "python",
   "nbconvert_exporter": "python",
   "pygments_lexer": "ipython3",
   "version": "3.1.0"
  },
  "notify_time": "0",
  "toc": {
   "base_numbering": 1,
   "nav_menu": {},
   "number_sections": false,
   "sideBar": true,
   "skip_h1_title": false,
   "title_cell": "Table of Contents",
   "title_sidebar": "Contents",
   "toc_cell": false,
   "toc_position": {},
   "toc_section_display": true,
   "toc_window_display": false
  }
 },
 "nbformat": 4,
 "nbformat_minor": 4
}
