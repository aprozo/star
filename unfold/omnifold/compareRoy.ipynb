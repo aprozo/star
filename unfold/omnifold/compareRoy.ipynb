{
 "cells": [
  {
   "cell_type": "code",
   "execution_count": 2,
   "metadata": {},
   "outputs": [],
   "source": [
    "import sWeightsEff\n",
    "import matplotlib.pyplot as plt\n",
    "\n",
    "# mplhep.style.use(\"LHCb2\")\n",
    "import modplot\n",
    "import numpy as np \n",
    "import pandas as pd\n",
    "import uproot"
   ]
  },
  {
   "cell_type": "code",
   "execution_count": 3,
   "metadata": {},
   "outputs": [],
   "source": [
    "D0masMin = 1.75\n",
    "D0masMax = 1.95\n",
    "D0ptMin = 1.0\n",
    "D0ExpCut = f\"(D0mass > {D0masMin}) & (D0mass<{D0masMax}) & (D0_pT>{D0ptMin})\"\n",
    "\n",
    "# centralityBins=[0,10]   # corresponds to 0 bin\n",
    "# centralityBins=[10,40] # corresponds to 1 bin\n",
    "centralityBins=[40,80] # corresponds to 2 bin\n",
    "\n",
    "# exp_tree       = uproot.open(\"/home/prozorov/dev/star/OUTPUT_2014_20012024.root:Jets\") # full jets\n",
    "exp_tree       = uproot.open(\"/home/prozorov/dev/star/2014_text_trackbased_notall.root:Jets\")# track-based  jets\n",
    "\n"
   ]
  },
  {
   "cell_type": "code",
   "execution_count": 4,
   "metadata": {},
   "outputs": [
    {
     "name": "stdout",
     "output_type": "stream",
     "text": [
      "Processing centrality bin:  (Centrality >= 40) & (Centrality < 80)\n"
     ]
    },
    {
     "ename": "NameError",
     "evalue": "name 'compute_sweights' is not defined",
     "output_type": "error",
     "traceback": [
      "\u001b[0;31m---------------------------------------------------------------------------\u001b[0m",
      "\u001b[0;31mNameError\u001b[0m                                 Traceback (most recent call last)",
      "Cell \u001b[0;32mIn[4], line 12\u001b[0m\n\u001b[1;32m     10\u001b[0m jetFilter \u001b[38;5;241m=\u001b[39m(exp[\u001b[38;5;124m\"\u001b[39m\u001b[38;5;124mcentrality\u001b[39m\u001b[38;5;124m\"\u001b[39m]\u001b[38;5;241m>\u001b[39m\u001b[38;5;241m=\u001b[39mcentralityBins[\u001b[38;5;241m0\u001b[39m]) \u001b[38;5;241m&\u001b[39m (exp[\u001b[38;5;124m\"\u001b[39m\u001b[38;5;124mcentrality\u001b[39m\u001b[38;5;124m\"\u001b[39m]\u001b[38;5;241m<\u001b[39mcentralityBins[\u001b[38;5;241m1\u001b[39m])\n\u001b[1;32m     11\u001b[0m exp \u001b[38;5;241m=\u001b[39m exp\u001b[38;5;241m.\u001b[39mloc[jetFilter]\n\u001b[0;32m---> 12\u001b[0m exp[\u001b[38;5;124m\"\u001b[39m\u001b[38;5;124mSWeight\u001b[39m\u001b[38;5;124m\"\u001b[39m] \u001b[38;5;241m=\u001b[39m \u001b[43msWeightsEff\u001b[49m\u001b[38;5;241;43m.\u001b[39;49m\u001b[43mgetSWeights\u001b[49m\u001b[43m(\u001b[49m\u001b[43mexp\u001b[49m\u001b[38;5;241;43m.\u001b[39;49m\u001b[43mcopy\u001b[49m\u001b[43m(\u001b[49m\u001b[43m)\u001b[49m\u001b[43m)\u001b[49m\n\u001b[1;32m     13\u001b[0m exp[\u001b[38;5;124m\"\u001b[39m\u001b[38;5;124mEff\u001b[39m\u001b[38;5;124m\"\u001b[39m] \u001b[38;5;241m=\u001b[39m exp\u001b[38;5;241m.\u001b[39mapply(\u001b[38;5;28;01mlambda\u001b[39;00m row: sWeightsEff\u001b[38;5;241m.\u001b[39mgetEfficiencyD0Yield(row[\u001b[38;5;124m\"\u001b[39m\u001b[38;5;124mD0_pT\u001b[39m\u001b[38;5;124m\"\u001b[39m], row[\u001b[38;5;124m\"\u001b[39m\u001b[38;5;124mcentrality\u001b[39m\u001b[38;5;124m\"\u001b[39m]), axis\u001b[38;5;241m=\u001b[39m\u001b[38;5;241m1\u001b[39m)\n\u001b[1;32m     14\u001b[0m exp[\u001b[38;5;124m\"\u001b[39m\u001b[38;5;124mWeight\u001b[39m\u001b[38;5;124m\"\u001b[39m] \u001b[38;5;241m=\u001b[39m exp[\u001b[38;5;124m\"\u001b[39m\u001b[38;5;124mSWeight\u001b[39m\u001b[38;5;124m\"\u001b[39m]\u001b[38;5;241m*\u001b[39mexp[\u001b[38;5;124m\"\u001b[39m\u001b[38;5;124mEff\u001b[39m\u001b[38;5;124m\"\u001b[39m]\u001b[38;5;241m*\u001b[39mexp[\u001b[38;5;124m\"\u001b[39m\u001b[38;5;124mcentr_weight\u001b[39m\u001b[38;5;124m\"\u001b[39m]\n",
      "File \u001b[0;32m~/dev/star/unfold/Tanmay/sWeightsEff.py:40\u001b[0m, in \u001b[0;36mgetSWeights\u001b[0;34m(exp)\u001b[0m\n\u001b[1;32m     37\u001b[0m result_sw \u001b[38;5;241m=\u001b[39m minimizer\u001b[38;5;241m.\u001b[39mminimize(nll_sw)\n\u001b[1;32m     39\u001b[0m weights \u001b[38;5;241m=\u001b[39m compute_sweights(model, data_sw)\n\u001b[0;32m---> 40\u001b[0m \u001b[38;5;28;01mreturn\u001b[39;00m weights[sig_yield]\n",
      "\u001b[0;31mNameError\u001b[0m: name 'compute_sweights' is not defined"
     ]
    }
   ],
   "source": [
    "\n",
    "centralityCuts = [\"(Centrality >= {}) & (Centrality < {})\".format(centralityBins[i], centralityBins[i+1]) for i in range(len(centralityBins)-1)]\n",
    "# make centrality dependent analysis\n",
    "print(\"Processing centrality bin: \", centralityCuts[0])\n",
    "exp = exp_tree.arrays([\"D0_pT\",\"D0mass\", \"D0_r\", \"centrality\", \"centr_weight\", \"jet_pt_corr\", \"pseudorapidity\",\n",
    "                       \"z\", \"lambda_1_1\",\"lambda_1_1half\",\"lambda_1_2\",\"lambda_1_3\", \"NConst\", \"lambda_1_0half\", \"lambda_2_0\", \"bg_dens\", \"jet_area\"], \n",
    "                       cut=D0ExpCut + \"& (abs(pseudorapidity) <= 0.6)\", library='pd')\n",
    "#apply centrality cut\n",
    "mapCentrality = {0:70, 1:60, 2:50, 3:40, 4:30, 5:20, 6:10, 7:5, 8:0}\n",
    "exp[\"centrality\"]  = exp[\"centrality\"].apply(lambda x: mapCentrality[x])\n",
    "jetFilter =(exp[\"centrality\"]>=centralityBins[0]) & (exp[\"centrality\"]<centralityBins[1])\n",
    "exp = exp.loc[jetFilter]\n",
    "exp[\"SWeight\"] = sWeightsEff.getSWeights(exp.copy())\n",
    "exp[\"Eff\"] = exp.apply(lambda row: sWeightsEff.getEfficiencyD0Yield(row[\"D0_pT\"], row[\"centrality\"]), axis=1)\n",
    "exp[\"Weight\"] = exp[\"SWeight\"]*exp[\"Eff\"]*exp[\"centr_weight\"]\n",
    "\n",
    "exp.drop(columns=[\"SWeight\", \"Eff\", \"centr_weight\", \"D0_pT\",\"D0mass\", \"centrality\"], inplace=True)\n",
    "exp.rename(columns={\"jet_pt_corr\": \"pt\",\"pseudorapidity\":\"eta\", \"NConst\": \"nconst\", \"bg_dens\": \"rho\", \"jet_area\": \"area\", \"lambda_1_0half\" : \"lambda_1_half\" \n",
    "                     }, inplace=True)\n",
    "\n",
    "exp ['dispersion'] = np.sqrt(exp['lambda_2_0'])\n",
    "\n",
    "print(\"Data events: \", len(exp))\n",
    "print(exp.head())"
   ]
  },
  {
   "cell_type": "code",
   "execution_count": null,
   "metadata": {},
   "outputs": [],
   "source": []
  }
 ],
 "metadata": {
  "kernelspec": {
   "display_name": "tf",
   "language": "python",
   "name": "python3"
  },
  "language_info": {
   "codemirror_mode": {
    "name": "ipython",
    "version": 3
   },
   "file_extension": ".py",
   "mimetype": "text/x-python",
   "name": "python",
   "nbconvert_exporter": "python",
   "pygments_lexer": "ipython3",
   "version": "3.11.6"
  }
 },
 "nbformat": 4,
 "nbformat_minor": 2
}
