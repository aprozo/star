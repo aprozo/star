{
 "cells": [
  {
   "cell_type": "code",
   "execution_count": 1,
   "metadata": {},
   "outputs": [
    {
     "name": "stdout",
     "output_type": "stream",
     "text": [
      "Welcome to JupyROOT 6.28/06\n"
     ]
    }
   ],
   "source": [
    "import sys\n",
    "method = \"bayes\"\n",
    "\n",
    "from ROOT import gRandom, TH1, TH1D, TCanvas, cout, gStyle, TFile, TLegend, TTree,TNtuple\n",
    "from ROOT import cout # for printing from RooUnfold\n",
    "from ROOT import RooUnfoldResponse\n",
    "# You should recognise the following unfolding methods from the lecture\n",
    "from ROOT import RooUnfoldBinByBin\n",
    "from ROOT import RooUnfoldInvert\n",
    "from ROOT import RooUnfoldBayes\n",
    "from ROOT import RooUnfoldIds\n",
    "from ROOT import RooUnfoldSvd\n",
    "import ROOT\n",
    "%jsroot on\n",
    "\n",
    "try:\n",
    "  import RooUnfold\n",
    "except ImportError:\n",
    "  # somehow the python module was not found, let's try loading the library by hand\n",
    "  ROOT.gSystem.Load(\"libRooUnfold.so\")\n"
   ]
  },
  {
   "cell_type": "code",
   "execution_count": 2,
   "metadata": {},
   "outputs": [],
   "source": [
    "nCentralityBins = 6;\n",
    "centralityTitles = {\"0-80%\", \"0-10%\", \"10-20%\", \"20-40%\", \"40-60%\", \"60-80%\"}\n",
    "centralityNames = {\"0_80\", \"0_10\", \"10_20\", \"20_40\", \"40_60\", \"60_80\"}\n",
    "hHIRecoJetPt = TH1D(\"hHIRecoJetPt\", \"\", 100, 0, 100)\n",
    "hMcJetPt = TH1D(\"hMcJetPt\", \"\", 100, 0, 100)\n",
    "response= ROOT.RooUnfoldResponse(hHIRecoJetPt, hMcJetPt)\n"
   ]
  },
  {
   "cell_type": "code",
   "execution_count": 9,
   "metadata": {},
   "outputs": [],
   "source": [
    "f = TFile(\"output_jets.root\")\n",
    "fTree = f.Get(\"Jets\")\n",
    "nEntries = fTree.GetEntries()\n",
    "\n",
    "for i in range(100000):\n",
    "    fTree.GetEntry(i)\n",
    "    if(fTree.RecoJetNConst!=0):\n",
    "        response.Fill(fTree.RecoJetPt, fTree.McJetPt)\n",
    "    else: \n",
    "        response.Miss(fTree.McJetPt)\n",
    "    hHIRecoJetPt.Fill(fTree.RecoJetPt)\n",
    "    hMcJetPt.Fill(fTree.McJetPt)\n"
   ]
  },
  {
   "cell_type": "code",
   "execution_count": 13,
   "metadata": {},
   "outputs": [
    {
     "name": "stdout",
     "output_type": "stream",
     "text": [
      "Now unfolding...\n",
      "Iteration : 0\n",
      "Chi^2 of change 1.2155e+08\n",
      "Iteration : 1\n",
      "Chi^2 of change 1.62169e-23\n",
      "Iteration : 2\n",
      "Chi^2 of change 1.53132e-24\n",
      "Iteration : 3\n",
      "Chi^2 of change 1.53132e-24\n",
      "Calculating covariances due to number of measured events\n"
     ]
    }
   ],
   "source": [
    "\n",
    "unfold= ROOT.RooUnfoldBayes(response, hHIRecoJetPt,4);\n",
    "hUnfold= unfold.Hunfold();\n"
   ]
  },
  {
   "cell_type": "code",
   "execution_count": 14,
   "metadata": {},
   "outputs": [
    {
     "name": "stdout",
     "output_type": "stream",
     "text": [
      "===============================================================================\n",
      "         Train    Train     Test     Test Unfolded  Error on     Diff     Pull\n",
      "  Bin    Truth Measured    Truth    Input   Output Unfolding\n",
      "===============================================================================\n",
      "    1        0    18036    33344    33344      0.0       0.0\n",
      "    2    54648    27519    18346    18346 1002572208.0 7401929.9 1002553862.0    135.4\n",
      "    3    79860    32904    21936    21936 1751808960.0 11827910.4 1751787024.0    148.1\n",
      "    4    70665    33729    22486    22486 1588973190.0 10596451.8 1588950704.0    150.0\n",
      "    5    45084    29439    19626    19626 884818584.0 6315945.0 884798958.0    140.1\n",
      "    6    25263    24408    16272    16272 411079536.0 3222592.5 411063264.0    127.6\n",
      "    7    12108    19002    12668    12668 153384144.0 1362782.2 153371476.0    112.5\n",
      "    8     6108    14730     9820     9820 59980560.0  605277.8 59970740.0     99.1\n",
      "    9     3012    11130     7420     7420 22349040.0  259451.9 22341620.0     86.1\n",
      "   10     1578     8493     5662     5662 8934636.0  118738.6 8928974.0     75.2\n",
      "   11      699     6141     4094     4094 2861706.0   44725.1 2857612.0     63.9\n",
      "   12      414     4911     3274     3274 1355436.0   23688.6 1352162.0     57.1\n",
      "   13      219     3429     2286     2286 500634.0   10470.9 498348.0     47.6\n",
      "   14      141     2826     1884     1884 265644.0    6120.1 263760.0     43.1\n",
      "   15       75     1995     1330     1330  99750.0    2735.2  98420.0     36.0\n",
      "   16       51     1461      974      974  49674.0    1591.7  48700.0     30.6\n",
      "   17       30     1146      764      764  22920.0     829.2  22156.0     26.7\n",
      "   18       21      732      488      488  10248.0     463.9   9760.0     21.0\n",
      "   19        6      579      386      386   2316.0     117.9   1930.0     16.4\n",
      "   20        6      372      248      248   1488.0      94.5   1240.0     13.1\n",
      "   21        9      252      168      168   1512.0     116.7   1344.0     11.5\n",
      "   22        3      261      174      174    522.0      39.6    348.0      8.8\n",
      "   23        0      183      122      122      0.0       0.0\n",
      "   24        0      105       70       70      0.0       0.0\n",
      "   25        0       60       40       40      0.0       0.0\n",
      "   26        0       45       30       30      0.0       0.0\n",
      "   27        0       27       18       18      0.0       0.0\n",
      "   28        0       36       24       24      0.0       0.0\n",
      "   29        0       12        8        8      0.0       0.0\n",
      "   30        0        6        4        4      0.0       0.0\n",
      "   31        0        0        0        0      0.0       0.0\n",
      "   32        0        9        6        6      0.0       0.0\n",
      "   33        0        0        0        0      0.0       0.0\n",
      "   34        0        3        2        2      0.0       0.0\n",
      "   35        0        0        0        0      0.0       0.0\n",
      "   36        0        0        0        0      0.0       0.0\n",
      "   37        0        0        0        0      0.0       0.0\n",
      "   38        0        0        0        0      0.0       0.0\n",
      "   39        0        0        0        0      0.0       0.0\n",
      "   40        0        0        0        0      0.0       0.0\n",
      "   41        0        0        0        0      0.0       0.0\n",
      "   42        0        0        0        0      0.0       0.0\n",
      "   43        0        0        0        0      0.0       0.0\n",
      "   44        0        0        0        0      0.0       0.0\n",
      "   45        0        0        0        0      0.0       0.0\n",
      "   46        0        0        0        0      0.0       0.0\n",
      "   47        0        0        0        0      0.0       0.0\n",
      "   48        0        0        0        0      0.0       0.0\n",
      "   49        0        0        0        0      0.0       0.0\n",
      "   50        0        0        0        0      0.0       0.0\n",
      "   51        0        0        0        0      0.0       0.0\n",
      "   52        0        0        0        0      0.0       0.0\n",
      "   53        0        0        0        0      0.0       0.0\n",
      "   54        0        0        0        0      0.0       0.0\n",
      "   55        0        0        0        0      0.0       0.0\n",
      "   56        0        0        0        0      0.0       0.0\n",
      "   57        0        0        0        0      0.0       0.0\n",
      "   58        0        0        0        0      0.0       0.0\n",
      "   59        0        0        0        0      0.0       0.0\n",
      "   60        0        0        0        0      0.0       0.0\n",
      "   61        0        0        0        0      0.0       0.0\n",
      "   62        0        0        0        0      0.0       0.0\n",
      "   63        0        0        0        0      0.0       0.0\n",
      "   64        0        0        0        0      0.0       0.0\n",
      "   65        0        0        0        0      0.0       0.0\n",
      "   66        0        0        0        0      0.0       0.0\n",
      "   67        0        0        0        0      0.0       0.0\n",
      "   68        0        0        0        0      0.0       0.0\n",
      "   69        0        0        0        0      0.0       0.0\n",
      "   70        0        0        0        0      0.0       0.0\n",
      "   71        0        0        0        0      0.0       0.0\n",
      "   72        0        0        0        0      0.0       0.0\n",
      "   73        0        0        0        0      0.0       0.0\n",
      "   74        0        0        0        0      0.0       0.0\n",
      "   75        0        0        0        0      0.0       0.0\n",
      "   76        0        0        0        0      0.0       0.0\n",
      "   77        0        0        0        0      0.0       0.0\n",
      "   78        0        0        0        0      0.0       0.0\n",
      "   79        0        0        0        0      0.0       0.0\n",
      "   80        0        0        0        0      0.0       0.0\n",
      "   81        0        0        0        0      0.0       0.0\n",
      "   82        0        0        0        0      0.0       0.0\n",
      "   83        0        0        0        0      0.0       0.0\n",
      "   84        0        0        0        0      0.0       0.0\n",
      "   85        0        0        0        0      0.0       0.0\n",
      "   86        0        0        0        0      0.0       0.0\n",
      "   87        0        0        0        0      0.0       0.0\n",
      "   88        0        0        0        0      0.0       0.0\n",
      "   89        0        0        0        0      0.0       0.0\n",
      "   90        0        0        0        0      0.0       0.0\n",
      "   91        0        0        0        0      0.0       0.0\n",
      "   92        0        0        0        0      0.0       0.0\n",
      "   93        0        0        0        0      0.0       0.0\n",
      "   94        0        0        0        0      0.0       0.0\n",
      "   95        0        0        0        0      0.0       0.0\n",
      "   96        0        0        0        0      0.0       0.0\n",
      "   97        0        0        0        0      0.0       0.0\n",
      "   98        0        0        0        0      0.0       0.0\n",
      "   99        0        0        0        0      0.0       0.0\n",
      "  100        0        0        0        0      0.0       0.0\n",
      "===============================================================================\n",
      "        300000   243981   183974   183974 5889072708.0     527.4 5888888734.0 11165800.8\n",
      "===============================================================================\n",
      "Bin-by-bin Chi^2/NDF=149715/21\n"
     ]
    }
   ],
   "source": [
    "unfold.PrintTable (cout, hHIRecoJetPt);"
   ]
  },
  {
   "cell_type": "code",
   "execution_count": 21,
   "metadata": {},
   "outputs": [
    {
     "ename": "TypeError",
     "evalue": "none of the 4 overloaded methods succeeded. Full details:\n  TLegend::TLegend(const TLegend& legend) =>\n    TypeError: could not convert argument 1\n  TLegend::TLegend() =>\n    TypeError: takes at most 0 arguments (1 given)\n  TLegend::TLegend(double w, double h, const char* header = \"\", const char* option = \"brNDC\") =>\n    TypeError: takes at least 2 arguments (1 given)\n  TLegend::TLegend(double x1, double y1, double x2, double y2, const char* header = \"\", const char* option = \"brNDC\") =>\n    TypeError: takes at least 4 arguments (1 given)",
     "output_type": "error",
     "traceback": [
      "\u001b[0;31m---------------------------------------------------------------------------\u001b[0m",
      "\u001b[0;31mTypeError\u001b[0m                                 Traceback (most recent call last)",
      "\u001b[1;32m/home/prozorov/dev/star/unfold/unfold.ipynb Ячейка 6\u001b[0m line \u001b[0;36m1\n\u001b[1;32m     <a href='vscode-notebook-cell://wsl%2Bubuntu/home/prozorov/dev/star/unfold/unfold.ipynb#X13sdnNjb2RlLXJlbW90ZQ%3D%3D?line=11'>12</a>\u001b[0m hUnfold\u001b[39m.\u001b[39mSetLineColor(\u001b[39m1\u001b[39m)\n\u001b[1;32m     <a href='vscode-notebook-cell://wsl%2Bubuntu/home/prozorov/dev/star/unfold/unfold.ipynb#X13sdnNjb2RlLXJlbW90ZQ%3D%3D?line=12'>13</a>\u001b[0m hUnfold\u001b[39m.\u001b[39mDraw(\u001b[39m\"\u001b[39m\u001b[39msame\u001b[39m\u001b[39m\"\u001b[39m)\n\u001b[0;32m---> <a href='vscode-notebook-cell://wsl%2Bubuntu/home/prozorov/dev/star/unfold/unfold.ipynb#X13sdnNjb2RlLXJlbW90ZQ%3D%3D?line=14'>15</a>\u001b[0m leg\u001b[39m=\u001b[39m TLegend(\u001b[39m\"\u001b[39;49m\u001b[39m\"\u001b[39;49m)\n\u001b[1;32m     <a href='vscode-notebook-cell://wsl%2Bubuntu/home/prozorov/dev/star/unfold/unfold.ipynb#X13sdnNjb2RlLXJlbW90ZQ%3D%3D?line=15'>16</a>\u001b[0m leg\u001b[39m.\u001b[39mAddEntry(hMcJetPt, \u001b[39m\"\u001b[39m\u001b[39mMC\u001b[39m\u001b[39m\"\u001b[39m, \u001b[39m\"\u001b[39m\u001b[39ml\u001b[39m\u001b[39m\"\u001b[39m)\n\u001b[1;32m     <a href='vscode-notebook-cell://wsl%2Bubuntu/home/prozorov/dev/star/unfold/unfold.ipynb#X13sdnNjb2RlLXJlbW90ZQ%3D%3D?line=16'>17</a>\u001b[0m leg\u001b[39m.\u001b[39mAddEntry(hHIRecoJetPt, \u001b[39m\"\u001b[39m\u001b[39mReco\u001b[39m\u001b[39m\"\u001b[39m, \u001b[39m\"\u001b[39m\u001b[39ml\u001b[39m\u001b[39m\"\u001b[39m)\n",
      "\u001b[0;31mTypeError\u001b[0m: none of the 4 overloaded methods succeeded. Full details:\n  TLegend::TLegend(const TLegend& legend) =>\n    TypeError: could not convert argument 1\n  TLegend::TLegend() =>\n    TypeError: takes at most 0 arguments (1 given)\n  TLegend::TLegend(double w, double h, const char* header = \"\", const char* option = \"brNDC\") =>\n    TypeError: takes at least 2 arguments (1 given)\n  TLegend::TLegend(double x1, double y1, double x2, double y2, const char* header = \"\", const char* option = \"brNDC\") =>\n    TypeError: takes at least 4 arguments (1 given)"
     ]
    },
    {
     "name": "stderr",
     "output_type": "stream",
     "text": [
      "Warning in <TCanvas::Constructor>: Deleting canvas with same name: canvas1\n"
     ]
    },
    {
     "data": {
      "text/html": [
       "\n",
       "\n",
       "<div id=\"root_plot_1697545389629\"\n",
       "     style=\"width: 796px; height: 572px\">\n",
       "</div>\n",
       "<script>\n",
       "\n",
       "function display_root_plot_1697545389629(Core) {\n",
       "   let obj = Core.parse({\"_typename\":\"TCanvas\",\"fUniqueID\":0,\"fBits\":3342344,\"fLineColor\":1,\"fLineStyle\":1,\"fLineWidth\":1,\"fFillColor\":0,\"fFillStyle\":1001,\"fLeftMargin\":0.1,\"fRightMargin\":0.1,\"fBottomMargin\":0.1,\"fTopMargin\":0.1,\"fXfile\":2,\"fYfile\":2,\"fAfile\":1,\"fXstat\":0.99,\"fYstat\":0.99,\"fAstat\":2,\"fFrameFillColor\":0,\"fFrameLineColor\":1,\"fFrameFillStyle\":1001,\"fFrameLineStyle\":1,\"fFrameLineWidth\":1,\"fFrameBorderSize\":1,\"fFrameBorderMode\":0,\"fX1\":0,\"fY1\":0,\"fX2\":1,\"fY2\":1,\"fXtoAbsPixelk\":5e-5,\"fXtoPixelk\":5e-5,\"fXtoPixel\":796,\"fYtoAbsPixelk\":572.00005,\"fYtoPixelk\":572.00005,\"fYtoPixel\":-572,\"fUtoAbsPixelk\":5e-5,\"fUtoPixelk\":5e-5,\"fUtoPixel\":796,\"fVtoAbsPixelk\":572.00005,\"fVtoPixelk\":572,\"fVtoPixel\":-572,\"fAbsPixeltoXk\":0,\"fPixeltoXk\":0,\"fPixeltoX\":0.00125628140703518,\"fAbsPixeltoYk\":1,\"fPixeltoYk\":0,\"fPixeltoY\":-0.00174825174825175,\"fXlowNDC\":0,\"fYlowNDC\":0,\"fXUpNDC\":1,\"fYUpNDC\":1,\"fWNDC\":1,\"fHNDC\":1,\"fAbsXlowNDC\":0,\"fAbsYlowNDC\":0,\"fAbsWNDC\":1,\"fAbsHNDC\":1,\"fUxmin\":0,\"fUymin\":0,\"fUxmax\":1,\"fUymax\":1,\"fTheta\":30,\"fPhi\":30,\"fAspectRatio\":0,\"fNumber\":0,\"fTickx\":0,\"fTicky\":0,\"fLogx\":0,\"fLogy\":1,\"fLogz\":0,\"fPadPaint\":0,\"fCrosshair\":0,\"fCrosshairPos\":0,\"fBorderSize\":2,\"fBorderMode\":0,\"fModified\":true,\"fGridx\":false,\"fGridy\":false,\"fAbsCoord\":false,\"fEditable\":true,\"fFixedAspectRatio\":false,\"fPrimitives\":{\"_typename\":\"TList\",\"name\":\"TList\",\"arr\":[{\"_typename\":\"TH1D\",\"fUniqueID\":0,\"fBits\":8,\"fName\":\"hMcJetPt\",\"fTitle\":\"\",\"fLineColor\":2,\"fLineStyle\":1,\"fLineWidth\":1,\"fFillColor\":0,\"fFillStyle\":1001,\"fMarkerColor\":1,\"fMarkerStyle\":1,\"fMarkerSize\":1,\"fNcells\":102,\"fXaxis\":{\"_typename\":\"TAxis\",\"fUniqueID\":0,\"fBits\":0,\"fName\":\"xaxis\",\"fTitle\":\"\",\"fNdivisions\":510,\"fAxisColor\":1,\"fLabelColor\":1,\"fLabelFont\":42,\"fLabelOffset\":0.005,\"fLabelSize\":0.035,\"fTickLength\":0.03,\"fTitleOffset\":1,\"fTitleSize\":0.035,\"fTitleColor\":1,\"fTitleFont\":42,\"fNbins\":100,\"fXmin\":0,\"fXmax\":100,\"fXbins\":[],\"fFirst\":0,\"fLast\":0,\"fBits2\":0,\"fTimeDisplay\":false,\"fTimeFormat\":\"\",\"fLabels\":null,\"fModLabs\":null},\"fYaxis\":{\"_typename\":\"TAxis\",\"fUniqueID\":0,\"fBits\":0,\"fName\":\"yaxis\",\"fTitle\":\"\",\"fNdivisions\":510,\"fAxisColor\":1,\"fLabelColor\":1,\"fLabelFont\":42,\"fLabelOffset\":0.005,\"fLabelSize\":0.035,\"fTickLength\":0.03,\"fTitleOffset\":0,\"fTitleSize\":0.035,\"fTitleColor\":1,\"fTitleFont\":42,\"fNbins\":1,\"fXmin\":0,\"fXmax\":1,\"fXbins\":[],\"fFirst\":0,\"fLast\":0,\"fBits2\":0,\"fTimeDisplay\":false,\"fTimeFormat\":\"\",\"fLabels\":null,\"fModLabs\":null},\"fZaxis\":{\"_typename\":\"TAxis\",\"fUniqueID\":0,\"fBits\":0,\"fName\":\"zaxis\",\"fTitle\":\"\",\"fNdivisions\":510,\"fAxisColor\":1,\"fLabelColor\":1,\"fLabelFont\":42,\"fLabelOffset\":0.005,\"fLabelSize\":0.035,\"fTickLength\":0.03,\"fTitleOffset\":1,\"fTitleSize\":0.035,\"fTitleColor\":1,\"fTitleFont\":42,\"fNbins\":1,\"fXmin\":0,\"fXmax\":1,\"fXbins\":[],\"fFirst\":0,\"fLast\":0,\"fBits2\":0,\"fTimeDisplay\":false,\"fTimeFormat\":\"\",\"fLabels\":null,\"fModLabs\":null},\"fBarOffset\":0,\"fBarWidth\":1000,\"fEntries\":100000,\"fTsumw\":100000,\"fTsumw2\":100000,\"fTsumwx\":351322.249435067,\"fTsumwx2\":1532380.50460753,\"fMaximum\":-1111,\"fMinimum\":-1111,\"fNormFactor\":0,\"fContour\":[],\"fSumw2\":[],\"fOption\":\"\",\"fFunctions\":{\"_typename\":\"TList\",\"name\":\"TList\",\"arr\":[],\"opt\":[]},\"fBufferSize\":0,\"fBuffer\":[],\"fBinStatErrOpt\":0,\"fStatOverflows\":2,\"fArray\":{\"$arr\":\"Float64\",\"len\":102,\"p\":2,\"v\":[18216,26620,23555,15028,8421,4036,2036,1004,526,233,138,73,47,25,17,10,7,2,2,3,1]}},{\"_typename\":\"TH1D\",\"fUniqueID\":0,\"fBits\":8,\"fName\":\"hHIRecoJetPt\",\"fTitle\":\"\",\"fLineColor\":4,\"fLineStyle\":1,\"fLineWidth\":1,\"fFillColor\":0,\"fFillStyle\":1001,\"fMarkerColor\":1,\"fMarkerStyle\":1,\"fMarkerSize\":1,\"fNcells\":102,\"fXaxis\":{\"_typename\":\"TAxis\",\"fUniqueID\":0,\"fBits\":0,\"fName\":\"xaxis\",\"fTitle\":\"\",\"fNdivisions\":510,\"fAxisColor\":1,\"fLabelColor\":1,\"fLabelFont\":42,\"fLabelOffset\":0.005,\"fLabelSize\":0.035,\"fTickLength\":0.03,\"fTitleOffset\":1,\"fTitleSize\":0.035,\"fTitleColor\":1,\"fTitleFont\":42,\"fNbins\":100,\"fXmin\":0,\"fXmax\":100,\"fXbins\":[],\"fFirst\":0,\"fLast\":0,\"fBits2\":0,\"fTimeDisplay\":false,\"fTimeFormat\":\"\",\"fLabels\":null,\"fModLabs\":null},\"fYaxis\":{\"_typename\":\"TAxis\",\"fUniqueID\":0,\"fBits\":0,\"fName\":\"yaxis\",\"fTitle\":\"\",\"fNdivisions\":510,\"fAxisColor\":1,\"fLabelColor\":1,\"fLabelFont\":42,\"fLabelOffset\":0.005,\"fLabelSize\":0.035,\"fTickLength\":0.03,\"fTitleOffset\":0,\"fTitleSize\":0.035,\"fTitleColor\":1,\"fTitleFont\":42,\"fNbins\":1,\"fXmin\":0,\"fXmax\":1,\"fXbins\":[],\"fFirst\":0,\"fLast\":0,\"fBits2\":0,\"fTimeDisplay\":false,\"fTimeFormat\":\"\",\"fLabels\":null,\"fModLabs\":null},\"fZaxis\":{\"_typename\":\"TAxis\",\"fUniqueID\":0,\"fBits\":0,\"fName\":\"zaxis\",\"fTitle\":\"\",\"fNdivisions\":510,\"fAxisColor\":1,\"fLabelColor\":1,\"fLabelFont\":42,\"fLabelOffset\":0.005,\"fLabelSize\":0.035,\"fTickLength\":0.03,\"fTitleOffset\":1,\"fTitleSize\":0.035,\"fTitleColor\":1,\"fTitleFont\":42,\"fNbins\":1,\"fXmin\":0,\"fXmax\":1,\"fXbins\":[],\"fFirst\":0,\"fLast\":0,\"fBits2\":0,\"fTimeDisplay\":false,\"fTimeFormat\":\"\",\"fLabels\":null,\"fModLabs\":null},\"fBarOffset\":0,\"fBarWidth\":1000,\"fEntries\":200000,\"fTsumw\":183974,\"fTsumw2\":183974,\"fTsumwx\":834105.807406807,\"fTsumwx2\":6492013.84855956,\"fMaximum\":-1111,\"fMinimum\":-1111,\"fNormFactor\":0,\"fContour\":[],\"fSumw2\":[],\"fOption\":\"\",\"fFunctions\":{\"_typename\":\"TList\",\"name\":\"TList\",\"arr\":[],\"opt\":[]},\"fBufferSize\":0,\"fBuffer\":[],\"fBinStatErrOpt\":0,\"fStatOverflows\":2,\"fArray\":{\"$arr\":\"Float64\",\"len\":102,\"v\":[16026,33344,18346,21936,22486,19626,16272,12668,9820,7420,5662,4094,3274,2286,1884,1330,974,764,488,386,248,168,174,122,70,40,30,18,24,8,4,0,6,0,2]}},{\"_typename\":\"TH1D\",\"fUniqueID\":0,\"fBits\":8,\"fName\":\"hMcJetPt\",\"fTitle\":\"\",\"fLineColor\":1,\"fLineStyle\":1,\"fLineWidth\":1,\"fFillColor\":0,\"fFillStyle\":1001,\"fMarkerColor\":1,\"fMarkerStyle\":1,\"fMarkerSize\":1,\"fNcells\":102,\"fXaxis\":{\"_typename\":\"TAxis\",\"fUniqueID\":0,\"fBits\":0,\"fName\":\"xaxis\",\"fTitle\":\"\",\"fNdivisions\":510,\"fAxisColor\":1,\"fLabelColor\":1,\"fLabelFont\":42,\"fLabelOffset\":0.005,\"fLabelSize\":0.035,\"fTickLength\":0.03,\"fTitleOffset\":1,\"fTitleSize\":0.035,\"fTitleColor\":1,\"fTitleFont\":42,\"fNbins\":100,\"fXmin\":0,\"fXmax\":100,\"fXbins\":[],\"fFirst\":0,\"fLast\":0,\"fBits2\":0,\"fTimeDisplay\":false,\"fTimeFormat\":\"\",\"fLabels\":null,\"fModLabs\":null},\"fYaxis\":{\"_typename\":\"TAxis\",\"fUniqueID\":0,\"fBits\":0,\"fName\":\"yaxis\",\"fTitle\":\"\",\"fNdivisions\":510,\"fAxisColor\":1,\"fLabelColor\":1,\"fLabelFont\":42,\"fLabelOffset\":0.005,\"fLabelSize\":0.035,\"fTickLength\":0.03,\"fTitleOffset\":0,\"fTitleSize\":0.035,\"fTitleColor\":1,\"fTitleFont\":42,\"fNbins\":1,\"fXmin\":0,\"fXmax\":1,\"fXbins\":[],\"fFirst\":0,\"fLast\":0,\"fBits2\":0,\"fTimeDisplay\":false,\"fTimeFormat\":\"\",\"fLabels\":null,\"fModLabs\":null},\"fZaxis\":{\"_typename\":\"TAxis\",\"fUniqueID\":0,\"fBits\":0,\"fName\":\"zaxis\",\"fTitle\":\"\",\"fNdivisions\":510,\"fAxisColor\":1,\"fLabelColor\":1,\"fLabelFont\":42,\"fLabelOffset\":0.005,\"fLabelSize\":0.035,\"fTickLength\":0.03,\"fTitleOffset\":1,\"fTitleSize\":0.035,\"fTitleColor\":1,\"fTitleFont\":42,\"fNbins\":1,\"fXmin\":0,\"fXmax\":1,\"fXbins\":[],\"fFirst\":0,\"fLast\":0,\"fBits2\":0,\"fTimeDisplay\":false,\"fTimeFormat\":\"\",\"fLabels\":null,\"fModLabs\":null},\"fBarOffset\":0,\"fBarWidth\":1000,\"fEntries\":300100,\"fTsumw\":0,\"fTsumw2\":300000,\"fTsumwx\":1053966.7483052,\"fTsumwx2\":4597141.51382284,\"fMaximum\":-1111,\"fMinimum\":-1111,\"fNormFactor\":0,\"fContour\":[],\"fSumw2\":{\"$arr\":\"Float64\",\"len\":102,\"p\":2,\"v\":[54788566022784,139899463545600,112284790471350,39891161041056,10385102317968,1857175215552,366361260480,67315308480,14098855608,2000332494,561150504,109638846,37455804,7481250,2533374,687600,215208,13896,8928,13608,1566]},\"fOption\":\"\",\"fFunctions\":{\"_typename\":\"TList\",\"name\":\"TList\",\"arr\":[],\"opt\":[]},\"fBufferSize\":0,\"fBuffer\":[],\"fBinStatErrOpt\":0,\"fStatOverflows\":2,\"fArray\":{\"$arr\":\"Float64\",\"len\":102,\"p\":2,\"v\":[1002572208,1751808960,1588973190,884818584,411079536,153384144,59980560,22349040,8934636,2861706,1355436,500634,265644,99750,49674,22920,10248,2316,1488,1512,522]}},{\"_typename\":\"TStyle\",\"fUniqueID\":0,\"fBits\":0,\"fName\":\"Modern\",\"fTitle\":\"Modern Style\",\"fLineColor\":1,\"fLineStyle\":1,\"fLineWidth\":1,\"fFillColor\":19,\"fFillStyle\":1001,\"fMarkerColor\":1,\"fMarkerStyle\":1,\"fMarkerSize\":1,\"fTextAngle\":0,\"fTextSize\":0.05,\"fTextAlign\":11,\"fTextColor\":1,\"fTextFont\":62,\"fXaxis\":{\"_typename\":\"TAttAxis\",\"fNdivisions\":510,\"fAxisColor\":1,\"fLabelColor\":1,\"fLabelFont\":42,\"fLabelOffset\":0.005,\"fLabelSize\":0.035,\"fTickLength\":0.03,\"fTitleOffset\":1,\"fTitleSize\":0.035,\"fTitleColor\":1,\"fTitleFont\":42},\"fYaxis\":{\"_typename\":\"TAttAxis\",\"fNdivisions\":510,\"fAxisColor\":1,\"fLabelColor\":1,\"fLabelFont\":42,\"fLabelOffset\":0.005,\"fLabelSize\":0.035,\"fTickLength\":0.03,\"fTitleOffset\":0,\"fTitleSize\":0.035,\"fTitleColor\":1,\"fTitleFont\":42},\"fZaxis\":{\"_typename\":\"TAttAxis\",\"fNdivisions\":510,\"fAxisColor\":1,\"fLabelColor\":1,\"fLabelFont\":42,\"fLabelOffset\":0.005,\"fLabelSize\":0.035,\"fTickLength\":0.03,\"fTitleOffset\":1,\"fTitleSize\":0.035,\"fTitleColor\":1,\"fTitleFont\":42},\"fBarWidth\":1,\"fBarOffset\":0,\"fColorModelPS\":0,\"fDrawBorder\":0,\"fOptLogx\":0,\"fOptLogy\":0,\"fOptLogz\":0,\"fOptDate\":0,\"fOptStat\":0,\"fOptTitle\":1,\"fOptFile\":0,\"fOptFit\":0,\"fShowEventStatus\":0,\"fShowEditor\":0,\"fShowToolBar\":0,\"fNumberContours\":20,\"fAttDate\":{\"_typename\":\"TAttText\",\"fTextAngle\":0,\"fTextSize\":0.025,\"fTextAlign\":11,\"fTextColor\":1,\"fTextFont\":62},\"fDateX\":0.01,\"fDateY\":0.01,\"fEndErrorSize\":2,\"fErrorX\":0.5,\"fFuncColor\":2,\"fFuncStyle\":1,\"fFuncWidth\":2,\"fGridColor\":0,\"fGridStyle\":3,\"fGridWidth\":1,\"fLegendBorderSize\":1,\"fLegendFillColor\":0,\"fLegendFont\":42,\"fLegendTextSize\":0,\"fHatchesLineWidth\":1,\"fHatchesSpacing\":1,\"fFrameFillColor\":0,\"fFrameLineColor\":1,\"fFrameFillStyle\":1001,\"fFrameLineStyle\":1,\"fFrameLineWidth\":1,\"fFrameBorderSize\":1,\"fFrameBorderMode\":0,\"fHistFillColor\":0,\"fHistLineColor\":602,\"fHistFillStyle\":1001,\"fHistLineStyle\":1,\"fHistLineWidth\":1,\"fHistMinimumZero\":false,\"fHistTopMargin\":0.05,\"fCanvasPreferGL\":false,\"fCanvasColor\":0,\"fCanvasBorderSize\":2,\"fCanvasBorderMode\":0,\"fCanvasDefH\":500,\"fCanvasDefW\":700,\"fCanvasDefX\":10,\"fCanvasDefY\":10,\"fPadColor\":0,\"fPadBorderSize\":2,\"fPadBorderMode\":0,\"fPadBottomMargin\":0.1,\"fPadTopMargin\":0.1,\"fPadLeftMargin\":0.1,\"fPadRightMargin\":0.1,\"fPadGridX\":false,\"fPadGridY\":false,\"fPadTickX\":0,\"fPadTickY\":0,\"fPaperSizeX\":20,\"fPaperSizeY\":26,\"fScreenFactor\":1,\"fStatColor\":0,\"fStatTextColor\":1,\"fStatBorderSize\":1,\"fStatFont\":42,\"fStatFontSize\":0,\"fStatStyle\":1001,\"fStatFormat\":\"6.4g\",\"fStatX\":0.98,\"fStatY\":0.935,\"fStatW\":0.2,\"fStatH\":0.16,\"fStripDecimals\":true,\"fTitleAlign\":23,\"fTitleColor\":0,\"fTitleTextColor\":1,\"fTitleBorderSize\":0,\"fTitleFont\":42,\"fTitleFontSize\":0.05,\"fTitleStyle\":0,\"fTitleX\":0.5,\"fTitleY\":0.995,\"fTitleW\":0,\"fTitleH\":0,\"fLegoInnerR\":0.5,\"fLineStyles\":[\"\",\"  \",\" 12 12\",\" 4 8\",\" 12 16 4 16\",\" 20 12 4 12\",\" 20 12 4 12 4 12 4 12\",\" 20 20\",\" 20 12 4 12 4 12\",\" 80 20\",\" 80 40 4 40\",\"  \",\"  \",\"  \",\"  \",\"  \",\"  \",\"  \",\"  \",\"  \",\"  \",\"  \",\"  \",\"  \",\"  \",\"  \",\"  \",\"  \",\"  \",\"  \"],\"fHeaderPS\":\"\",\"fTitlePS\":\"\",\"fFitFormat\":\"5.4g\",\"fPaintTextFormat\":\"g\",\"fLineScalePS\":3,\"fJoinLinePS\":0,\"fCapLinePS\":0,\"fTimeOffset\":788918400,\"fImageScaling\":1}],\"opt\":[\"\",\"same\",\"same\",\"\"]},\"fExecs\":null,\"fName\":\"canvas1\",\"fTitle\":\"\",\"fNumPaletteColor\":0,\"fNextPaletteColor\":0,\"fDISPLAY\":\"$DISPLAY\",\"fDoubleBuffer\":0,\"fRetained\":true,\"fXsizeUser\":0,\"fYsizeUser\":0,\"fXsizeReal\":20,\"fYsizeReal\":15,\"fWindowTopX\":0,\"fWindowTopY\":0,\"fWindowWidth\":0,\"fWindowHeight\":0,\"fCw\":796,\"fCh\":572,\"fCatt\":{\"_typename\":\"TAttCanvas\",\"fXBetween\":2,\"fYBetween\":2,\"fTitleFromTop\":1.2,\"fXdate\":0.2,\"fYdate\":0.3,\"fAdate\":1},\"kMoveOpaque\":true,\"kResizeOpaque\":true,\"fHighLightColor\":2,\"fBatch\":true,\"kShowEventStatus\":false,\"kAutoExec\":true,\"kMenuBar\":true});\n",
       "   Core.settings.HandleKeys = false;\n",
       "   Core.draw(\"root_plot_1697545389629\", obj, \"\");\n",
       "}\n",
       "\n",
       "function script_load_root_plot_1697545389629(src, on_error) {\n",
       "    let script = document.createElement('script');\n",
       "    script.src = src;\n",
       "    script.onload = function() { display_root_plot_1697545389629(JSROOT); };\n",
       "    script.onerror = function() { script.remove(); on_error(); };\n",
       "    document.head.appendChild(script);\n",
       "}\n",
       "\n",
       "if (typeof requirejs !== 'undefined') {\n",
       "\n",
       "    // We are in jupyter notebooks, use require.js which should be configured already\n",
       "    requirejs.config({\n",
       "       paths: { 'JSRootCore' : [ 'build/jsroot', 'https://root.cern/js/7.2.1/build/jsroot', 'https://jsroot.gsi.de/7.2.1/build/jsroot' ] }\n",
       "    })(['JSRootCore'],  function(Core) {\n",
       "       display_root_plot_1697545389629(Core);\n",
       "    });\n",
       "\n",
       "} else if (typeof JSROOT !== 'undefined') {\n",
       "\n",
       "   // JSROOT already loaded, just use it\n",
       "   display_root_plot_1697545389629(JSROOT);\n",
       "\n",
       "} else {\n",
       "\n",
       "    // We are in jupyterlab without require.js, directly loading jsroot\n",
       "    // Jupyterlab might be installed in a different base_url so we need to know it.\n",
       "    try {\n",
       "        var base_url = JSON.parse(document.getElementById('jupyter-config-data').innerHTML).baseUrl;\n",
       "    } catch(_) {\n",
       "        var base_url = '/';\n",
       "    }\n",
       "\n",
       "    // Try loading a local version of requirejs and fallback to cdn if not possible.\n",
       "    script_load_root_plot_1697545389629(base_url + 'static/build/jsroot.js', function(){\n",
       "        console.error('Fail to load JSROOT locally, please check your jupyter_notebook_config.py file');\n",
       "        script_load_root_plot_1697545389629('https://root.cern/js/7.2.1/build/jsroot.js', function(){\n",
       "            document.getElementById(\"root_plot_1697545389629\").innerHTML = \"Failed to load JSROOT\";\n",
       "        });\n",
       "    });\n",
       "}\n",
       "\n",
       "</script>\n"
      ],
      "text/plain": [
       "<IPython.core.display.HTML object>"
      ]
     },
     "metadata": {},
     "output_type": "display_data"
    }
   ],
   "source": [
    "gStyle.SetOptStat(0)\n",
    "canvas1 = TCanvas(\"canvas1\", \"\", 800, 600)\n",
    "canvas1.cd()\n",
    "canvas1.SetLogy()\n",
    "canvas1.Draw()\n",
    "\n",
    "hMcJetPt.SetLineColor(2)\n",
    "hMcJetPt.Draw()\n",
    "hHIRecoJetPt.SetLineColor(4)\n",
    "hHIRecoJetPt.Draw(\"same\")\n",
    "\n",
    "hUnfold.SetLineColor(1)\n",
    "hUnfold.Draw(\"same\")\n",
    "\n",
    "leg= TLegend(\"\")\n",
    "leg.AddEntry(hMcJetPt, \"MC\", \"l\")\n",
    "leg.AddEntry(hHIRecoJetPt, \"Reco\", \"l\")\n",
    "leg.AddEntry(hUnfold, \"Unfolded\", \"l\")\n",
    "leg.Draw(\"same\")\n"
   ]
  },
  {
   "cell_type": "code",
   "execution_count": null,
   "metadata": {},
   "outputs": [],
   "source": []
  }
 ],
 "metadata": {
  "kernelspec": {
   "display_name": "Python 3",
   "language": "python",
   "name": "python3"
  },
  "language_info": {
   "codemirror_mode": {
    "name": "ipython",
    "version": 3
   },
   "file_extension": ".py",
   "mimetype": "text/x-python",
   "name": "python",
   "nbconvert_exporter": "python",
   "pygments_lexer": "ipython3",
   "version": "3.10.12"
  }
 },
 "nbformat": 4,
 "nbformat_minor": 2
}
